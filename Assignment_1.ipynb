{
 "cells": [
  {
   "cell_type": "markdown",
   "id": "8e38015e",
   "metadata": {},
   "source": [
    "## Assignment_1 "
   ]
  },
  {
   "cell_type": "markdown",
   "id": "00aab2e1",
   "metadata": {},
   "source": [
    "## 1.In the below elements which of them are values or an expression? eg:- values can be integer or string and expressions will be mathematical operators.\n",
    "\n",
    "\n"
   ]
  },
  {
   "cell_type": "markdown",
   "id": "9dbde997",
   "metadata": {},
   "source": [
    "a.*\n",
    "\n",
    "b.'hello'\n",
    "\n",
    "c.-87.8\n",
    "\n",
    "d.- \n",
    "\n",
    "e./ \n",
    "\n",
    "f.+\n",
    "g. 6"
   ]
  },
  {
   "cell_type": "markdown",
   "id": "2bc26ced",
   "metadata": {},
   "source": [
    "### Answer"
   ]
  },
  {
   "cell_type": "markdown",
   "id": "b217ad77",
   "metadata": {},
   "source": [
    " Mathematical Operators - a.*(Asterisk), d.- , e. /, f.+\n",
    " \n",
    " Values- b.'Hello', c. -87.8,g. 6"
   ]
  },
  {
   "cell_type": "markdown",
   "id": "3275e1e0",
   "metadata": {},
   "source": [
    "## 2. What is the difference between string and variable?"
   ]
  },
  {
   "cell_type": "markdown",
   "id": "415d2bf1",
   "metadata": {},
   "source": [
    "Variable\n",
    "------------\n",
    "\n",
    "In programming or math varible is a place to store or represent a varying or fixed value.\n",
    "- A variable in python stores the adress of an object which is stored in the memory.\n",
    "- A variable in python can store different types of data like int , float, complex, list , tuple, dict, string\n",
    "\n",
    "String\n",
    "-----------\n",
    "\n",
    "String is a data type in python which can be stored in a variable. \n",
    "- Strings are ordered non-mutable sequences of characters.\n",
    "- It has several built-in methods and attributes.\n",
    "- It can be indexed as well.\n"
   ]
  },
  {
   "cell_type": "markdown",
   "id": "f5cc7582",
   "metadata": {},
   "source": [
    "## 3. Describe three different data types."
   ]
  },
  {
   "cell_type": "markdown",
   "id": "ea91ef42",
   "metadata": {},
   "source": [
    "### Boolean\n",
    "- Boolean data type holds only two values. They are: True and False\n",
    "- Boolean data type is a built-in data type\n",
    "- 1 and 0 are used to represent boolean values of True and False respectively\n",
    "- bool() constructor can be used to convert the values of 1 and 0 to boolean values.\n",
    "\n",
    "### Complex\n",
    "\n",
    "- In python, this complex data type is a built-in type.\n",
    "- Python supports operations upon complex numbers.\n",
    "- Just like in maths, complex numbers contains two parts, an imaginary part and a real part\n",
    "- it is represented in the form of a+ bi, where a is a real part and b is the imaginary part.\n",
    "- Python has an in built complex() constructor to make complex-type data type\n",
    "\n",
    "### Integer\n",
    "\n",
    "- Integer data type is present in python.\n",
    "- It supports all the integer values.\n",
    "- int() constructor can be used to construct an integer value from a float or other possible values\n",
    "- An integer type object can consists of binary values, hexadecimal values and octal values\n",
    "\n"
   ]
  },
  {
   "cell_type": "markdown",
   "id": "6deff5e8",
   "metadata": {},
   "source": [
    "## 4. What is an expression made up of? What do all expressions do?\n",
    "\n",
    "\n",
    "Expressions can be made by combining operators and operands. \n",
    "- Expressions does some operations on the operands by the operators we provide\n",
    "- Different operators have different precedence. For example: \"*\" is having more precedence than the \"+\" operator.\n",
    "- All the expressions gives a value out which can be stored in a variable.\n",
    "\n",
    "#### Example \n",
    "\n",
    "5+6 (Here the value is 11)\n",
    "5*8+9 (Here * has more precedence so the value is 40 + 9 = 49)"
   ]
  },
  {
   "cell_type": "markdown",
   "id": "f09be9b1",
   "metadata": {},
   "source": [
    "## 5. This assignment statements, like spam = 10. What is the difference between an expression and a statement?\n",
    "\n",
    "\n",
    "Expressions are combination of operands and operators which performs an operation\n",
    "But Statements are commands or instructions given to computer. If we assign a value of the output which is outputed by an expression to a variable, we are telling the system to store the value of the operation.\n",
    "\n",
    "- Values of the expression can change depending on the value of operand variables\n",
    "- The printed statements using the print() function in python cannot be changed after printing\n",
    "- The evaluation operation done by a statement always produces a value but a statement need not to produce values everytime.\n",
    "- An expression need not to be a statement always. But all statment can have expressions inside them\n"
   ]
  },
  {
   "cell_type": "markdown",
   "id": "5dfdaf4d",
   "metadata": {},
   "source": [
    "## 6. After running the following code, what does the variable bacon contain?\n",
    "- 1.bacon = 22\n",
    "- 2.bacon + 1\n"
   ]
  },
  {
   "cell_type": "markdown",
   "id": "ab14f18c",
   "metadata": {},
   "source": [
    "After running the code,\n",
    "#### Bacon =22 itself.\n",
    "\n",
    "if the code was like :\n",
    "\n",
    "- bacon= 22\n",
    "- bacon+=1\n",
    "\n",
    "then the value of bacon would've become 23\n",
    "\n"
   ]
  },
  {
   "cell_type": "markdown",
   "id": "ff3a9229",
   "metadata": {},
   "source": [
    "## 7. What should the values of the following two terms be?\n",
    "- 'spam' + 'spamspam'\n",
    "- 'spam' * 3\n"
   ]
  },
  {
   "cell_type": "markdown",
   "id": "b1596be2",
   "metadata": {},
   "source": [
    "#### Both the expressions will give the same output that is : spamspamspam"
   ]
  },
  {
   "cell_type": "markdown",
   "id": "aec06142",
   "metadata": {},
   "source": [
    "### 8. Why is eggs a valid variable name while 100 is invalid?\n",
    "\n",
    "- According the variable declareation rules in python a variale cannot start with a number.\n",
    "- so eggs would be a valid variable name as the variable name starts with an alphabet but the 100 starts with a number so it would give an error"
   ]
  },
  {
   "cell_type": "markdown",
   "id": "f83cb9b8",
   "metadata": {},
   "source": [
    "### 9. What three functions can be used to get the integer, floating-point number, or string version of a value?\n",
    "\n"
   ]
  },
  {
   "cell_type": "markdown",
   "id": "8336f970",
   "metadata": {},
   "source": [
    "- We can convert the values of another type into our desire type in python\n",
    "#### int() :\n",
    "      - used to make a value in integer type\n",
    "      eg: int(45.00) will give out 45\n",
    "#### float():\n",
    "      - This will convert a value to its float type\n",
    "      eg: float(45) will give out 45.0\n",
    "#### str()\n",
    "      - This will make your desired data in its string type\n",
    "      eg: str(4546) will give out '4546'"
   ]
  },
  {
   "cell_type": "markdown",
   "id": "c58d6c0f",
   "metadata": {},
   "source": [
    "## 10. Why does this expression cause an error? How can you fix it?\n",
    "'I have eaten ' + 99 + ' burritos.'\n",
    "\n",
    "\n",
    "### Correct form:\n",
    "- 'I have eaten ' + '99' +'burritos.'\n",
    "- or 'I have eaten ' + str(99) + 'burritos.'\n",
    " \n",
    " ### Reason:\n",
    "        The string concatenation will only concatenate both values if and only if both of the value is of the string type\n",
    "        99 is an integer number. unless and until we make it a string it won't get added to a string."
   ]
  }
 ],
 "metadata": {
  "kernelspec": {
   "display_name": "Python 3 (ipykernel)",
   "language": "python",
   "name": "python3"
  },
  "language_info": {
   "codemirror_mode": {
    "name": "ipython",
    "version": 3
   },
   "file_extension": ".py",
   "mimetype": "text/x-python",
   "name": "python",
   "nbconvert_exporter": "python",
   "pygments_lexer": "ipython3",
   "version": "3.9.7"
  }
 },
 "nbformat": 4,
 "nbformat_minor": 5
}
