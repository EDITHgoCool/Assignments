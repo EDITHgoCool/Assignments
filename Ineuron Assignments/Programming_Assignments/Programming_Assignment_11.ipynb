{
 "cells": [
  {
   "cell_type": "markdown",
   "id": "6095d68c",
   "metadata": {},
   "source": [
    "### Programming Assignment 11\n",
    "<br>by Gokul Krishna\n"
   ]
  },
  {
   "cell_type": "markdown",
   "id": "b6c86240",
   "metadata": {},
   "source": [
    "1. Write a Python program to find words which are greater than given length k?\n"
   ]
  },
  {
   "cell_type": "code",
   "execution_count": 1,
   "id": "927e7830",
   "metadata": {},
   "outputs": [
    {
     "name": "stdout",
     "output_type": "stream",
     "text": [
      "Enter a list with some words here:[\"A\",\"one\",22,\"three\",\"Ineuron\",\"FSDS\",\"ABCDEFG\"]\n",
      "Enter a length HERE: 4\n",
      "The words with number of letters greater than4 ['three', 'Ineuron', 'ABCDEFG']\n"
     ]
    }
   ],
   "source": [
    "class Which_word_is_greater():\n",
    "    list2=[]\n",
    "    def __init__(self,list1,length):\n",
    "        #This loop will check whether the elements in the passed list are grater than the passed length_value\n",
    "        \n",
    "        for i in list1:\n",
    "            \n",
    "            if len(str(i))>length:\n",
    "            #if the length of the element in the list is greater than the passed length, then it get saved.\n",
    "                self.list2.append(i)\n",
    "        \n",
    "        print(f\"The words with number of letters greater than{length}\",self.list2)\n",
    "\n",
    "ob1_Which_word_is_greater=Which_word_is_greater(eval(input(\"Enter a list with some words here:\")),int(input(\"Enter a length HERE: \")))   "
   ]
  },
  {
   "cell_type": "markdown",
   "id": "2ba5eaf0",
   "metadata": {},
   "source": [
    "2. Write a Python program for removing i-th character from a string?\n"
   ]
  },
  {
   "cell_type": "code",
   "execution_count": 2,
   "id": "c66da2c2",
   "metadata": {},
   "outputs": [
    {
     "name": "stdout",
     "output_type": "stream",
     "text": [
      "The string is  123456789\n",
      "Removed 5 with index of 4\n",
      "The string after removal of index 4 is  12346789\n"
     ]
    }
   ],
   "source": [
    "class String:\n",
    "    sentance2=\"\"\n",
    "    def i_th(self,sentance,i):\n",
    "        print(\"The string is \",sentance)\n",
    "        for j in sentance:\n",
    "            if sentance.index(j)==i:\n",
    "                print(f\"Removed {j} with index of {sentance.index(j)}\")\n",
    "                j=\"\"\n",
    "            String.sentance2+=j\n",
    "        print(f\"The string after removal of index {i} is \",String.sentance2)\n",
    "obj1_String=String()\n",
    "obj1_String.i_th(\"123456789\",4)"
   ]
  },
  {
   "cell_type": "markdown",
   "id": "42de886c",
   "metadata": {},
   "source": [
    "3. Write a Python program to split and join a string?\n"
   ]
  },
  {
   "cell_type": "code",
   "execution_count": 3,
   "id": "3328777d",
   "metadata": {},
   "outputs": [
    {
     "name": "stdout",
     "output_type": "stream",
     "text": [
      "['This', 'String', 'is', 'going', 'to', 'be', 'broken', 'into', 'list']\n",
      "Ineuron>Is>Awsome\n"
     ]
    }
   ],
   "source": [
    "#the split and join methods are NOT used here.The functions are built from scratch using my logic\n",
    "class String_function:\n",
    "        \n",
    "    #this fucntion joins the list with the passed value\n",
    "    def join(self,joining_char,string_list):\n",
    "        string2=\"\"\n",
    "        for i in string_list:\n",
    "            string2=string2+i\n",
    "            if i==string_list[-1]:\n",
    "                break\n",
    "            else:\n",
    "                string2+=joining_char\n",
    "        print(string2)\n",
    "    \n",
    "    #this function splits the string into elements of a list when the passed seperating character is encountered\n",
    "    def split(self,string,seperating_char):\n",
    "        split_list=[]\n",
    "        element=\"\"\n",
    "        for i in string:\n",
    "            if i==seperating_char:\n",
    "                split_list.append(element)\n",
    "                element=\"\"\n",
    "                continue\n",
    "            element+=i\n",
    "        split_list.append(element)\n",
    "        print(split_list)\n",
    "            \n",
    "        \n",
    "obj1=String_function()\n",
    "obj1.split(\"This_String_is_going_to_be_broken_into_list\",\"_\")\n",
    "obj1.join(\">\",[\"Ineuron\",\"Is\",\"Awsome\"])\n",
    "        \n",
    "        "
   ]
  },
  {
   "cell_type": "markdown",
   "id": "a7ab8de0",
   "metadata": {},
   "source": [
    "4. Write a Python to check if a given string is binary string or not?\n"
   ]
  },
  {
   "cell_type": "code",
   "execution_count": 4,
   "id": "37f7fa73",
   "metadata": {},
   "outputs": [
    {
     "name": "stdout",
     "output_type": "stream",
     "text": [
      "The String is a Bainary string\n"
     ]
    }
   ],
   "source": [
    "#the built-in methods are NOT used here.The functions are built from scratch using my logic\n",
    "class Binary_check:\n",
    "    def __init__(self,string):\n",
    "        value=\"\"\n",
    "        for i in string:\n",
    "            if i==\"0\" or i ==\"1\":\n",
    "                value=True\n",
    "            else :\n",
    "                value=False\n",
    "        if value ==True:\n",
    "            print(\"The String is a Bainary string\")\n",
    "        else:\n",
    "            print(\"The string is't Binary\")\n",
    "            \n",
    "string=Binary_check(\"0011010010101011010010101010101001010101000101010010010101000101010010010101010\")"
   ]
  },
  {
   "cell_type": "markdown",
   "id": "df3563de",
   "metadata": {},
   "source": [
    "5. Write a Python program to find uncommon words from two Strings?"
   ]
  },
  {
   "cell_type": "code",
   "execution_count": 5,
   "id": "62c3d7cd",
   "metadata": {},
   "outputs": [
    {
     "name": "stdout",
     "output_type": "stream",
     "text": [
      "The uncommon elements in the list are:  ['1', '3', '6']\n"
     ]
    }
   ],
   "source": [
    "class Uncommons:\n",
    "    def strings_fun(self,str1,str2):\n",
    "        \n",
    "        list1=str1.split(\" \")\n",
    "        list2=str2.split(\" \")\n",
    "        list3=[]\n",
    "        \n",
    "        for i in list1:\n",
    "            if i not in list2:\n",
    "                list3.append(i)\n",
    "        for i in list2:\n",
    "            if i not in list1:\n",
    "                list3.append(i)\n",
    "        print(\"The uncommon elements in the list are: \",list3)\n",
    "Uncommons().strings_fun(\"1 2 3 4 hai\",\"hai 2 4 6\")    "
   ]
  },
  {
   "cell_type": "markdown",
   "id": "03bef10e",
   "metadata": {},
   "source": [
    "6. Write a Python to find all duplicate characters in string?\n"
   ]
  },
  {
   "cell_type": "code",
   "execution_count": 6,
   "id": "d48945b9",
   "metadata": {},
   "outputs": [
    {
     "name": "stdout",
     "output_type": "stream",
     "text": [
      "INEURON\n"
     ]
    }
   ],
   "source": [
    "class Duplicate_characters:\n",
    "    def __init__(self,string1,string2):\n",
    "        self.string1=string1\n",
    "        self.string2=string2\n",
    "class one(Duplicate_characters):\n",
    "    def __init__(self,a,b):\n",
    "        Duplicate_characters.__init__(self,a,b)\n",
    "    def dupli(self):\n",
    "        string_store=\"\"\n",
    "        for i in self.string1:\n",
    "            if i in self.string2:\n",
    "                string_store=string_store+i\n",
    "        for i in self.string2:\n",
    "            if i in self.string1 and i not in string_store:\n",
    "                string_store+=i\n",
    "        print(string_store)\n",
    "                \n",
    "obj1_one=one(\\\n",
    "             \"I will be duplicate, \\\n",
    "              N will be duplicate,\\\n",
    "              E will be duplicate \\\n",
    "              U will be duplicate \\\n",
    "              R will be duplicate \\\n",
    "              O will be duplicate \\\n",
    "              N will be duplicate\",\\\n",
    "             \"NIUORE-THIS_IS_SECOND_ARGUEMENT\")\n",
    "obj1_one.dupli()"
   ]
  },
  {
   "cell_type": "markdown",
   "id": "1d90cf7b",
   "metadata": {},
   "source": [
    "7. Write a Python Program to check if a string contains any special character?"
   ]
  },
  {
   "cell_type": "code",
   "execution_count": 7,
   "id": "a8b0a0f3",
   "metadata": {},
   "outputs": [
    {
     "name": "stdout",
     "output_type": "stream",
     "text": [
      "Yes it has special characters and they are : !@()<>\n"
     ]
    }
   ],
   "source": [
    "string=\"Hi ! There@ Ineuron() is Awsome<>\"\n",
    "str2=\"\"\n",
    "sp_char=\"~!@#$%^&*()_+-=`{}[]:\\\";'\\\\<>?,./'\\\"\"\n",
    "for i in string:\n",
    "    if i in sp_char:\n",
    "        str2=str2+i\n",
    "if len(str2)>0:\n",
    "        print(\"Yes it has special characters and they are : \",end=\"\")\n",
    "else:\n",
    "        print(\"There is no special characters \")\n",
    "print(str2)"
   ]
  }
 ],
 "metadata": {
  "kernelspec": {
   "display_name": "Python 3 (ipykernel)",
   "language": "python",
   "name": "python3"
  },
  "language_info": {
   "codemirror_mode": {
    "name": "ipython",
    "version": 3
   },
   "file_extension": ".py",
   "mimetype": "text/x-python",
   "name": "python",
   "nbconvert_exporter": "python",
   "pygments_lexer": "ipython3",
   "version": "3.9.7"
  }
 },
 "nbformat": 4,
 "nbformat_minor": 5
}
