{
 "cells": [
  {
   "cell_type": "markdown",
   "id": "92f535cb",
   "metadata": {},
   "source": [
    "By Gokul Krishna P G\n",
    "<br>gokul0023@gmail.com"
   ]
  },
  {
   "cell_type": "markdown",
   "id": "763f1bc2",
   "metadata": {},
   "source": [
    "1. Write a Python Program to Find LCM?\n"
   ]
  },
  {
   "cell_type": "code",
   "execution_count": 1,
   "id": "b7e3808f",
   "metadata": {},
   "outputs": [
    {
     "name": "stdout",
     "output_type": "stream",
     "text": [
      "Enter first number HERE : 45\n",
      "Enter second number HERE: 110\n",
      "LCM of 45 and 110 is 990\n",
      "where 45 x 22 = 990 \n",
      "and 110 x 9 =990\n"
     ]
    }
   ],
   "source": [
    "num1=int(input(\"Enter first number HERE : \"))\n",
    "num2=int(input(\"Enter second number HERE: \"))\n",
    "i=1\n",
    "while True:\n",
    "    if i%num1==0 and i%num2==0:\n",
    "        print(f\"LCM of {num1} and {num2} is {i}\\nwhere {num1} x {int(i/num1)} = {i} \\nand {num2} x {int(i/num2)} ={i}\")\n",
    "        break\n",
    "    i+=1"
   ]
  },
  {
   "cell_type": "markdown",
   "id": "804d870b",
   "metadata": {},
   "source": [
    "2. Write a Python Program to Find HCF?\n"
   ]
  },
  {
   "cell_type": "code",
   "execution_count": 2,
   "id": "9d50f845",
   "metadata": {},
   "outputs": [
    {
     "name": "stdout",
     "output_type": "stream",
     "text": [
      "Enter a number HERE: 180000\n",
      "Enter a number HERE: 120000\n",
      "60000 is the HCF of 180000 and 120000\n"
     ]
    }
   ],
   "source": [
    "def HCF(num1,num2):\n",
    "    large=max(num1,num2)\n",
    "    for i in range(large+1,1,-1):\n",
    "        if num1%i==0 and num2%i==0:\n",
    "            return f\"{i} is the HCF of {num1} and {num2}\"\n",
    "print(HCF(int(input(\"Enter a number HERE: \")),int(input(\"Enter a number HERE: \"))))"
   ]
  },
  {
   "cell_type": "markdown",
   "id": "2b893ece",
   "metadata": {},
   "source": [
    "3. Write a Python Program to Convert Decimal to Binary, Octal and Hexadecimal?"
   ]
  },
  {
   "cell_type": "code",
   "execution_count": 3,
   "id": "9a27028c",
   "metadata": {},
   "outputs": [
    {
     "name": "stdout",
     "output_type": "stream",
     "text": [
      "Enter a number HERE : 56\n",
      "\n",
      "Binary of 56      =0b111000\n",
      "hexadecimal of 56 =0x38\n",
      "octal of 56  =0o70\n"
     ]
    },
    {
     "data": {
      "text/plain": [
       "[None]"
      ]
     },
     "execution_count": 3,
     "metadata": {},
     "output_type": "execute_result"
    }
   ],
   "source": [
    "convert= lambda num: [f\"\\nBinary of {num}      ={bin(num)}\\nhexadecimal of {num} ={hex(num)}\\noctal of {num}  ={oct(num)}\"]\n",
    "[ print(i) for i in convert(int(input(\"Enter a number HERE : \")))]"
   ]
  },
  {
   "cell_type": "markdown",
   "id": "37c6fdee",
   "metadata": {},
   "source": [
    "4. Write a Python Program To Find ASCII value of a character?"
   ]
  },
  {
   "cell_type": "code",
   "execution_count": 4,
   "id": "5de11839",
   "metadata": {},
   "outputs": [
    {
     "name": "stdout",
     "output_type": "stream",
     "text": [
      "Enter a character HERE: A\n",
      "The ASCII characeter is  65\n"
     ]
    }
   ],
   "source": [
    "conv=lambda char: ord(char)\n",
    "print(\"The ASCII characeter is \",conv(input(\"Enter a character HERE: \")))"
   ]
  },
  {
   "cell_type": "markdown",
   "id": "02840034",
   "metadata": {},
   "source": [
    "5. Write a Python Program to Make a Simple Calculator with 4 basic mathematical operations?"
   ]
  },
  {
   "cell_type": "code",
   "execution_count": 5,
   "id": "6ccdb1c6",
   "metadata": {},
   "outputs": [
    {
     "name": "stdout",
     "output_type": "stream",
     "text": [
      "Enter the  arithematic question HERE : 5 + 6 - 1 / 5 *3\n",
      "10.4\n"
     ]
    }
   ],
   "source": [
    "print(eval(input(\"Enter the  arithematic question HERE : \")))"
   ]
  }
 ],
 "metadata": {
  "kernelspec": {
   "display_name": "Python 3 (ipykernel)",
   "language": "python",
   "name": "python3"
  },
  "language_info": {
   "codemirror_mode": {
    "name": "ipython",
    "version": 3
   },
   "file_extension": ".py",
   "mimetype": "text/x-python",
   "name": "python",
   "nbconvert_exporter": "python",
   "pygments_lexer": "ipython3",
   "version": "3.9.7"
  }
 },
 "nbformat": 4,
 "nbformat_minor": 5
}
