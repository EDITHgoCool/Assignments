{
 "cells": [
  {
   "cell_type": "markdown",
   "id": "7aa4b9e8",
   "metadata": {},
   "source": [
    "by Gokul Krishna<br>gokul0023@gmail.com"
   ]
  },
  {
   "cell_type": "markdown",
   "id": "3b64b22a",
   "metadata": {},
   "source": [
    "Question1<br>\n",
    "Create a function that takes three integer arguments (a, b, c) and returns the amount of\n",
    "integers which are of equal value."
   ]
  },
  {
   "cell_type": "code",
   "execution_count": 1,
   "id": "9e2da8bf",
   "metadata": {},
   "outputs": [
    {
     "name": "stdout",
     "output_type": "stream",
     "text": [
      "fun(3,4,1)---> 1\n",
      "fun(1,1,1)---> 3\n",
      "fun(3,4,1)---> 1\n",
      "fun(7,5,7)---> 2\n"
     ]
    },
    {
     "data": {
      "text/plain": [
       "[None]"
      ]
     },
     "execution_count": 1,
     "metadata": {},
     "output_type": "execute_result"
    }
   ],
   "source": [
    "def fun(a,b,c):\n",
    "    l=[a,b,c]\n",
    "    if l.count(a)>0:\n",
    "        return [f\"fun({a},{b},{c})---> {l.count(a)}\"]\n",
    "    elif l.count(b)>0:\n",
    "        return [ f\"fun({a},{b},{c})---> {l.count(b)}\"]\n",
    "    elif l.count(c)>0:\n",
    "        return [f\"fun({a},{b},{c})---> {l.count(c)}\"]\n",
    "    else:\n",
    "        return [f\"fun({a},{b},{c})---> 0\"]\n",
    "[print(i) for i in fun(3,4,1)]\n",
    "[print(i) for i in fun(1,1,1)]\n",
    "[print(i) for i in fun(3,4,1)]\n",
    "[print(i) for i in fun(7,5,7)]"
   ]
  },
  {
   "cell_type": "markdown",
   "id": "0f5ac6b1",
   "metadata": {},
   "source": [
    "Question2<br>\n",
    "Write a function that converts a dictionary into a list of keys-values tuples."
   ]
  },
  {
   "cell_type": "code",
   "execution_count": 2,
   "id": "ba276f14",
   "metadata": {},
   "outputs": [
    {
     "name": "stdout",
     "output_type": "stream",
     "text": [
      "{1: 'Sudhanshu Sir', 4: 'Shivan kumar', 3: 'Krish Naik'} ➞ [(1, 'Sudhanshu Sir'), (4, 'Shivan kumar'), (3, 'Krish Naik')]\n"
     ]
    }
   ],
   "source": [
    "l=[]\n",
    "def dict_to_list(dic):\n",
    "    for i in dic:\n",
    "        l.append(tuple([i,dic[i]]))\n",
    "    print(f\"{dic} ➞ {l}\")\n",
    "dict_to_list({1:\"Sudhanshu Sir\",4:\"Shivan kumar\",3:\"Krish Naik\"})"
   ]
  },
  {
   "cell_type": "markdown",
   "id": "686641b4",
   "metadata": {},
   "source": [
    "Question3<br>\n",
    "Write a function that creates a dictionary with each (key, value) pair being the (lower case,\n",
    "upper case) versions of a letter, respectively."
   ]
  },
  {
   "cell_type": "code",
   "execution_count": 3,
   "id": "961b50fa",
   "metadata": {},
   "outputs": [
    {
     "name": "stdout",
     "output_type": "stream",
     "text": [
      "('d', 'h', 'f')  ➞  {'d': 'D', 'h': 'H', 'f': 'F'}\n"
     ]
    }
   ],
   "source": [
    "dictionary={}\n",
    "def function(l):\n",
    "    for i in l:\n",
    "        dictionary[i]=i.upper()\n",
    "    print(l,\" ➞ \",dictionary)\n",
    "function((\"d\",\"h\",\"f\"))"
   ]
  },
  {
   "cell_type": "markdown",
   "id": "d77b1cda",
   "metadata": {},
   "source": [
    "Question 4<br>Write a function, that replaces all vowels in a string with a specified vowel."
   ]
  },
  {
   "cell_type": "code",
   "execution_count": 4,
   "id": "61a49f9c",
   "metadata": {},
   "outputs": [
    {
     "name": "stdout",
     "output_type": "stream",
     "text": [
      "there was a nice guy ➞ thOrO wOs O nOcO gOy\n"
     ]
    }
   ],
   "source": [
    "#without using replace function\n",
    "def dic_fun(string,vowel):\n",
    "    string=string.lower()\n",
    "    string_=\"\"\n",
    "    vowels=[\"a\",\"e\",\"i\",\"o\",\"u\"]\n",
    "    for i in string:\n",
    "        if i in vowels:\n",
    "            i=vowel\n",
    "        string_+=i\n",
    "    print(f\"{string} ➞ {string_}\")\n",
    "dic_fun(\"There was a nice guy\",\"O\")"
   ]
  },
  {
   "cell_type": "markdown",
   "id": "da2d6e36",
   "metadata": {},
   "source": [
    "5.Create a function that takes a string as input and capitalizes a letter if its ASCII code is even and returns its lower case version if its ASCII code is odd."
   ]
  },
  {
   "cell_type": "code",
   "execution_count": 5,
   "id": "ccebe437",
   "metadata": {},
   "outputs": [
    {
     "name": "stdout",
     "output_type": "stream",
     "text": [
      "Ineuron is Amazing!!!  ➞  iNeuRoN is amaZiNg!!!\n"
     ]
    }
   ],
   "source": [
    "def odd_even(num):\n",
    "    if num%2==0:\n",
    "        return True\n",
    "    else:\n",
    "        return False\n",
    "def ASCII(string_in):\n",
    "    string_=\"\"\n",
    "    for i in string_in:\n",
    "        if odd_even(ord(i)):\n",
    "            i=i.upper()\n",
    "            string_+=i\n",
    "        else:\n",
    "            i=i.lower()\n",
    "            string_+=i\n",
    "    print(string_in,\" ➞ \",string_)\n",
    "ASCII(\"Ineuron is Amazing!!!\")\n",
    "            \n",
    "            "
   ]
  }
 ],
 "metadata": {
  "kernelspec": {
   "display_name": "Python 3 (ipykernel)",
   "language": "python",
   "name": "python3"
  },
  "language_info": {
   "codemirror_mode": {
    "name": "ipython",
    "version": 3
   },
   "file_extension": ".py",
   "mimetype": "text/x-python",
   "name": "python",
   "nbconvert_exporter": "python",
   "pygments_lexer": "ipython3",
   "version": "3.9.7"
  }
 },
 "nbformat": 4,
 "nbformat_minor": 5
}
