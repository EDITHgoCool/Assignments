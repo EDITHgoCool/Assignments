{
 "cells": [
  {
   "cell_type": "markdown",
   "id": "1d8dba99",
   "metadata": {},
   "source": [
    "by Gokul Krishna <br>gokul0023@gmail.com"
   ]
  },
  {
   "cell_type": "markdown",
   "id": "bf2bd811",
   "metadata": {},
   "source": [
    "Question1\n",
    "Create a function that takes an integer and returns a list from 1 to the given number, where:\n",
    "1. If the number can be divided evenly by 4, amplify it by 10 (i.e. return 10 times the\n",
    "number).\n",
    "2. If the number cannot be divided evenly by 4, simply return the number."
   ]
  },
  {
   "cell_type": "code",
   "execution_count": 1,
   "id": "a4d0cc35",
   "metadata": {},
   "outputs": [
    {
     "data": {
      "text/plain": [
       "[1, 2, 3, 40, 5, 6, 7, 80, 9, 10, 11, 120, 13, 14, 15, 160, 17, 18, 19, 200]"
      ]
     },
     "execution_count": 1,
     "metadata": {},
     "output_type": "execute_result"
    }
   ],
   "source": [
    "def conditions(number):\n",
    "    if number%4==0:\n",
    "        return number*10\n",
    "    else:\n",
    "        return number\n",
    "def funclist(num):\n",
    "    l=[]\n",
    "    [l.append(conditions(i)) for i in range(1,num+1)]\n",
    "    return l\n",
    "funclist(20)"
   ]
  },
  {
   "cell_type": "markdown",
   "id": "9353e88d",
   "metadata": {},
   "source": [
    "Question2<br>\n",
    "Create a function that takes a list of numbers and return the number that&#39;s unique."
   ]
  },
  {
   "cell_type": "code",
   "execution_count": 2,
   "id": "ec678348",
   "metadata": {},
   "outputs": [
    {
     "data": {
      "text/plain": [
       "'The unique value is 44'"
      ]
     },
     "execution_count": 2,
     "metadata": {},
     "output_type": "execute_result"
    }
   ],
   "source": [
    "def unique(numlist):\n",
    "    for i in numlist:\n",
    "        if numlist.count(i)==1:\n",
    "            return f\"The unique value is {i}\"\n",
    "unique([2,2,3,3,44,9,9,5,6,8,4,4,5,4,5,1,1,5,4,8,5,6,6,6,6,6,6,6,5,4,4])"
   ]
  },
  {
   "cell_type": "markdown",
   "id": "51db8443",
   "metadata": {},
   "source": [
    "3.Your task is to create a Circle constructor that creates a circle with a radius provided by an argument. The circles constructed must have two getters getArea() (PIr^2) and getPerimeter() (2PI*r) which give both respective areas and perimeter (circumference). For help with this class, I have provided you with a Rectangle constructor which you can use as a base example ?"
   ]
  },
  {
   "cell_type": "code",
   "execution_count": 3,
   "id": "d225c186",
   "metadata": {},
   "outputs": [
    {
     "name": "stdout",
     "output_type": "stream",
     "text": [
      "Radius ➞ 380\n",
      "Perimeter ➞ 69\n"
     ]
    }
   ],
   "source": [
    "import math\n",
    "class Circle:\n",
    "    def __init__(self, r):\n",
    "        self.r = r\n",
    "    def getPerimeter(self):\n",
    "        print(f'Perimeter ➞ {round(2*math.pi*self.r)}')  \n",
    "    def getArea(self):\n",
    "        print(f'Radius ➞ {round(math.pi*self.r**2)}')\n",
    "c = Circle(11)\n",
    "c.getArea()\n",
    "c.getPerimeter()"
   ]
  },
  {
   "cell_type": "markdown",
   "id": "6a6673ba",
   "metadata": {},
   "source": [
    "Question4<br>\n",
    "Create a function that takes a list of strings and return a list, sorted from shortest to longest.\n",
    "Examples<br>\n",
    "sort_by_length([&quot;Google&quot;, &quot;Apple&quot;, &quot;Microsoft&quot;])<br>\n",
    "➞ [&quot;Apple&quot;, &quot;Google&quot;, &quot;Microsoft&quot;]<br>\n",
    "sort_by_length([&quot;Leonardo&quot;, &quot;Michelangelo&quot;, &quot;Raphael&quot;, &quot;Donatello&quot;])<br>\n",
    "➞ [&quot;Raphael&quot;, &quot;Leonardo&quot;, &quot;Donatello&quot;, &quot;Michelangelo&quot;]<br>\n",
    "sort_by_length([&quot;Turing&quot;, &quot;Einstein&quot;, &quot;Jung&quot;])<br>\n",
    "➞ [&quot;Jung&quot;, &quot;Turing&quot;, &quot;Einstein&quot;]<br>\n",
    "Notes<br>\n",
    "All test cases contain lists with strings of different lengths, so you won&#39;t have to deal with\n",
    "multiple strings of the same length."
   ]
  },
  {
   "cell_type": "code",
   "execution_count": 4,
   "id": "64ab298b",
   "metadata": {},
   "outputs": [
    {
     "name": "stdout",
     "output_type": "stream",
     "text": [
      "[\"Leonardo\", \"Michelangelo\", \"Raphael Donatello\"]➞  ['Raphael', 'Leonardo', 'Donatello', 'Michelangelo']\n"
     ]
    }
   ],
   "source": [
    "def length(list_element):\n",
    "    return len(list_element)\n",
    "def list_sort(list_in):\n",
    "    list_in.sort(key=length)\n",
    "    return list_in\n",
    "print(\"[\\\"Leonardo\\\", \\\"Michelangelo\\\", \\\"Raphael\", \"Donatello\\\"]➞ \",list_sort([\"Leonardo\", \"Michelangelo\", \"Raphael\", \"Donatello\"]))"
   ]
  },
  {
   "cell_type": "markdown",
   "id": "a56d6621",
   "metadata": {},
   "source": [
    "Question5<br>\n",
    "Create a function that validates whether three given integers form a Pythagorean triplet. The\n",
    "sum of the squares of the two smallest integers must equal the square of the largest number to\n",
    "be validated.\n",
    "<br>\n",
    "Examples<br>\n",
    "is_triplet(3, 4, 5) ➞ True<br>\n",
    " 3² + 4² = 25<br>\n",
    " 5² = 25<br>\n",
    "is_triplet(13, 5, 12) ➞ True<br>\n",
    " 5² + 12² = 169<br>\n",
    " 13² = 169<br>\n",
    "is_triplet(1, 2, 3) ➞ False<br>\n",
    " 1² + 2² = 5<br>\n",
    " 3² = 9<br>\n",
    "Notes<br>\n",
    "Numbers may not be given in a sorted order.<br>"
   ]
  },
  {
   "cell_type": "code",
   "execution_count": 5,
   "id": "f8fe2965",
   "metadata": {},
   "outputs": [
    {
     "name": "stdout",
     "output_type": "stream",
     "text": [
      "[3, 4, 5]\n"
     ]
    },
    {
     "data": {
      "text/plain": [
       "'The numbers 3,5,4 are Pythegorean Triplets!!'"
      ]
     },
     "execution_count": 5,
     "metadata": {},
     "output_type": "execute_result"
    }
   ],
   "source": [
    "def check_triplets(a,b,c):\n",
    "    l=[a,b,c]\n",
    "    l.sort()\n",
    "    print(l)\n",
    "    if l[0]*l[0] +l[1]*l[1]==l[2]**2:\n",
    "        return f\"The numbers {a},{b},{c} are Pythegorean Triplets!!\"\n",
    "    else:\n",
    "        return \"Not triplets!\"\n",
    "check_triplets(3,5,4)"
   ]
  }
 ],
 "metadata": {
  "kernelspec": {
   "display_name": "Python 3 (ipykernel)",
   "language": "python",
   "name": "python3"
  },
  "language_info": {
   "codemirror_mode": {
    "name": "ipython",
    "version": 3
   },
   "file_extension": ".py",
   "mimetype": "text/x-python",
   "name": "python",
   "nbconvert_exporter": "python",
   "pygments_lexer": "ipython3",
   "version": "3.9.7"
  }
 },
 "nbformat": 4,
 "nbformat_minor": 5
}
