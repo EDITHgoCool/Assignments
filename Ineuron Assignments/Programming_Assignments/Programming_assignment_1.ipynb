{
 "cells": [
  {
   "cell_type": "markdown",
   "id": "4530bb39",
   "metadata": {},
   "source": [
    "# Programming Assignment 1\n",
    "\n",
    "Gokul Krishna\n",
    "<br>gokul0023@gmail.com"
   ]
  },
  {
   "cell_type": "markdown",
   "id": "0a718792",
   "metadata": {},
   "source": [
    "1.\tWrite a Python program to print \"Hello Python\"?"
   ]
  },
  {
   "cell_type": "code",
   "execution_count": 1,
   "id": "dca13edc",
   "metadata": {},
   "outputs": [
    {
     "name": "stdout",
     "output_type": "stream",
     "text": [
      "Hello Python\n"
     ]
    }
   ],
   "source": [
    "print(\"Hello Python\")"
   ]
  },
  {
   "cell_type": "markdown",
   "id": "06d7fda1",
   "metadata": {},
   "source": [
    "2.\tWrite a Python program to do arithmetical operations addition and division."
   ]
  },
  {
   "cell_type": "code",
   "execution_count": 2,
   "id": "79639ce2",
   "metadata": {},
   "outputs": [
    {
     "name": "stdout",
     "output_type": "stream",
     "text": [
      "Addition: 10 +20 =30\n",
      "\n",
      "Division: 10 % 20 = 0.5\n"
     ]
    }
   ],
   "source": [
    "a,b=10,20\n",
    "print(f\"Addition: {a} +{b} ={a+b}\\n\\nDivision: {a} % {b} = {a/b}\")"
   ]
  },
  {
   "cell_type": "markdown",
   "id": "5eeeb644",
   "metadata": {},
   "source": [
    "3.\tWrite a Python program to find the area of a triangle?"
   ]
  },
  {
   "cell_type": "code",
   "execution_count": 3,
   "id": "22410b65",
   "metadata": {},
   "outputs": [
    {
     "name": "stdout",
     "output_type": "stream",
     "text": [
      "Enter the base's value of the Triangle HERE: 10\n",
      "Enter the height value of the Triangle HERE: 20\n",
      "The Area is 0.5 x 20.0 x 10.0 = 200.0\n"
     ]
    }
   ],
   "source": [
    "base = float(input(\"Enter the base's value of the Triangle HERE: \"))\n",
    "height= float(input(\"Enter the height value of the Triangle HERE: \"))\n",
    "print(f\"The Area is 0.5 x {height} x {base } = {0.5*height*b}\")"
   ]
  },
  {
   "cell_type": "markdown",
   "id": "ae390562",
   "metadata": {},
   "source": [
    "4.\tWrite a Python program to swap two variables?"
   ]
  },
  {
   "cell_type": "code",
   "execution_count": 4,
   "id": "2eed8be9",
   "metadata": {},
   "outputs": [
    {
     "name": "stdout",
     "output_type": "stream",
     "text": [
      "Vaules before swapping is a =10 and b= 20\n",
      "Vaules after  swapping is a =20 and b= 10\n"
     ]
    }
   ],
   "source": [
    "a,b=10,20\n",
    "print(f\"Vaules before swapping is a ={a} and b= {b}\")\n",
    "a,b =b,a #swapping\n",
    "print(f\"Vaules after  swapping is a ={a} and b= {b}\")"
   ]
  },
  {
   "cell_type": "markdown",
   "id": "d8c24d56",
   "metadata": {},
   "source": [
    "5.\tWrite a Python program to generate a random number?"
   ]
  },
  {
   "cell_type": "code",
   "execution_count": 5,
   "id": "ca3d796e",
   "metadata": {},
   "outputs": [
    {
     "name": "stdout",
     "output_type": "stream",
     "text": [
      "10\n"
     ]
    }
   ],
   "source": [
    "import random as rd\n",
    "print(rd.randint(0,10))"
   ]
  }
 ],
 "metadata": {
  "kernelspec": {
   "display_name": "Python 3 (ipykernel)",
   "language": "python",
   "name": "python3"
  },
  "language_info": {
   "codemirror_mode": {
    "name": "ipython",
    "version": 3
   },
   "file_extension": ".py",
   "mimetype": "text/x-python",
   "name": "python",
   "nbconvert_exporter": "python",
   "pygments_lexer": "ipython3",
   "version": "3.9.7"
  }
 },
 "nbformat": 4,
 "nbformat_minor": 5
}
