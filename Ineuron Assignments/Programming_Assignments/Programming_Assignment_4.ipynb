{
 "cells": [
  {
   "cell_type": "markdown",
   "id": "2aa8a551",
   "metadata": {},
   "source": [
    "by Gokul Krishna P G, gokul0023@gmail.com"
   ]
  },
  {
   "cell_type": "markdown",
   "id": "6b98eaf2",
   "metadata": {},
   "source": [
    "1. Write a Python Program to Find the Factorial of a Number?"
   ]
  },
  {
   "cell_type": "code",
   "execution_count": 1,
   "id": "23d4670a",
   "metadata": {},
   "outputs": [
    {
     "name": "stdout",
     "output_type": "stream",
     "text": [
      "Enter a number HERE: 10\n",
      "The Factorial is:  3628800\n"
     ]
    }
   ],
   "source": [
    "def factorial(num):\n",
    "    fact=1\n",
    "    for i in range(1,num+1):\n",
    "        fact*=i\n",
    "    return fact\n",
    "print(\"The Factorial is: \",factorial(int(input(\"Enter a number HERE: \"))))"
   ]
  },
  {
   "cell_type": "markdown",
   "id": "5b69bd68",
   "metadata": {},
   "source": [
    "2. Write a Python Program to Display the multiplication Table?"
   ]
  },
  {
   "cell_type": "code",
   "execution_count": 2,
   "id": "ec23da3f",
   "metadata": {},
   "outputs": [
    {
     "name": "stdout",
     "output_type": "stream",
     "text": [
      "Enter the number HERE: 5\n",
      "Enter the range the range of table HERE: 20\n",
      "1 x 5 = 5\n",
      "2 x 5 = 10\n",
      "3 x 5 = 15\n",
      "4 x 5 = 20\n",
      "5 x 5 = 25\n",
      "6 x 5 = 30\n",
      "7 x 5 = 35\n",
      "8 x 5 = 40\n",
      "9 x 5 = 45\n",
      "10 x 5 = 50\n",
      "11 x 5 = 55\n",
      "12 x 5 = 60\n",
      "13 x 5 = 65\n",
      "14 x 5 = 70\n",
      "15 x 5 = 75\n",
      "16 x 5 = 80\n",
      "17 x 5 = 85\n",
      "18 x 5 = 90\n",
      "19 x 5 = 95\n",
      "20 x 5 = 100\n"
     ]
    }
   ],
   "source": [
    "def multiplication(number,rainj):\n",
    "    for i in range(1,rainj+1):\n",
    "        print(f\"{i} x {number} = {i*number}\")\n",
    "number=int(input(\"Enter the number HERE: \"))\n",
    "rainj= int(input(\"Enter the range the range of table HERE: \"))\n",
    "multiplication(number,rainj)"
   ]
  },
  {
   "cell_type": "markdown",
   "id": "a522cf1b",
   "metadata": {},
   "source": [
    "3. Write a Python Program to Print the Fibonacci sequence?"
   ]
  },
  {
   "cell_type": "code",
   "execution_count": 3,
   "id": "a8c0825a",
   "metadata": {},
   "outputs": [
    {
     "name": "stdout",
     "output_type": "stream",
     "text": [
      "Enter a number HERE: 10\n",
      "1 2 3 5 8 13 21 34 55 89 "
     ]
    }
   ],
   "source": [
    "a=b=c=1\n",
    "for i in range(1,int(input(\"Enter a number HERE: \"))+1):\n",
    "    print(c,end=\" \")\n",
    "    c=a+b\n",
    "    a,b=b,c"
   ]
  },
  {
   "cell_type": "markdown",
   "id": "adaeb5cc",
   "metadata": {},
   "source": [
    "4. Write a Python Program to Check Armstrong Number?"
   ]
  },
  {
   "cell_type": "code",
   "execution_count": 4,
   "id": "61f26c55",
   "metadata": {},
   "outputs": [
    {
     "name": "stdout",
     "output_type": "stream",
     "text": [
      "Enter a number HERE: 54748\n",
      "Amstrong!\n"
     ]
    }
   ],
   "source": [
    "def amstrong(num):\n",
    "    number=num\n",
    "    Sum=0\n",
    "    for i in range(len(str(num))):\n",
    "        reminder=num%10\n",
    "        num//=10\n",
    "        Sum+=reminder**len(str(number))\n",
    "    if Sum==number:\n",
    "        return \"Amstrong!\"\n",
    "    else :\n",
    "        return \"Not amstrong\"\n",
    "print(amstrong(int(input(\"Enter a number HERE: \"))))"
   ]
  },
  {
   "cell_type": "markdown",
   "id": "7eb4149b",
   "metadata": {},
   "source": [
    "5. Write a Python Program to Find Armstrong Number in an Interval?"
   ]
  },
  {
   "cell_type": "code",
   "execution_count": 5,
   "id": "4f9bfd97",
   "metadata": {},
   "outputs": [
    {
     "name": "stdout",
     "output_type": "stream",
     "text": [
      "Enter a number HERE: 500000\n",
      "The List of Amstrong numbers from 0 to  500000 is :\n",
      "[0, 1, 2, 3, 4, 5, 6, 7, 8, 9, 153, 370, 371, 407, 1634, 8208, 9474, 54748, 92727, 93084]\n"
     ]
    }
   ],
   "source": [
    "l=[]\n",
    "def amstrong_nums(num):\n",
    "    for i in range(num):\n",
    "        Sum=0\n",
    "        for j in str(i):\n",
    "            Sum = Sum+int(j)**len(str(i))\n",
    "        if int(i)==Sum:\n",
    "            l.append(Sum)\n",
    "    return f\"{num} is :\\n{l}\"\n",
    "print(\"The List of Amstrong numbers from 0 to \",amstrong_nums(int(input(\"Enter a number HERE: \"))))    "
   ]
  },
  {
   "cell_type": "markdown",
   "id": "04fbb356",
   "metadata": {},
   "source": [
    "6. Write a Python Program to Find the Sum of Natural Numbers?"
   ]
  },
  {
   "cell_type": "code",
   "execution_count": 6,
   "id": "ab4c3fe0",
   "metadata": {},
   "outputs": [
    {
     "name": "stdout",
     "output_type": "stream",
     "text": [
      "Enter a Natural Number HERE: 1000001\n",
      "The sum is :  500001500001\n"
     ]
    }
   ],
   "source": [
    "fun= lambda num: sum([i for i in range(num+1)])\n",
    "print(\"The sum is : \",fun(int(input(\"Enter a Natural Number HERE: \"))))"
   ]
  }
 ],
 "metadata": {
  "kernelspec": {
   "display_name": "Python 3 (ipykernel)",
   "language": "python",
   "name": "python3"
  },
  "language_info": {
   "codemirror_mode": {
    "name": "ipython",
    "version": 3
   },
   "file_extension": ".py",
   "mimetype": "text/x-python",
   "name": "python",
   "nbconvert_exporter": "python",
   "pygments_lexer": "ipython3",
   "version": "3.9.7"
  }
 },
 "nbformat": 4,
 "nbformat_minor": 5
}
