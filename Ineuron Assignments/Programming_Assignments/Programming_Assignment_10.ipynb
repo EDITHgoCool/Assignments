{
 "cells": [
  {
   "cell_type": "markdown",
   "id": "d2eae23e",
   "metadata": {},
   "source": [
    "## Programming Assignment 10<br>\n",
    "by Gokul Krishna\n"
   ]
  },
  {
   "cell_type": "markdown",
   "id": "b8b31588",
   "metadata": {},
   "source": [
    "1. Write a Python program to find sum of elements in list?"
   ]
  },
  {
   "cell_type": "code",
   "execution_count": 1,
   "id": "5e90864d",
   "metadata": {},
   "outputs": [
    {
     "name": "stdout",
     "output_type": "stream",
     "text": [
      "The sum of list calulated through buil-in sum function is  62 \n",
      "The sum of numbers in the list calculated through loop is:\n",
      " 0 + -23 + 1 + 2 + 3 + 4 + 5 + 6 + 8 + 9 + 7 + 6 + 25 + 6 + 3=  62\n"
     ]
    }
   ],
   "source": [
    "l=[-23,1,2,3,4,5,6,8,9,7,6,25,6,3]\n",
    "print(\"The sum of list calulated through buil-in sum function is \",sum(l),\"\\nThe sum of numbers in the list calculated through loop is:\\n 0\",end='')\n",
    "Sum=0\n",
    "for i in l:\n",
    "    Sum=Sum+i\n",
    "    print(\" +\",i,end=\"\")\n",
    "print(\"= \",Sum)"
   ]
  },
  {
   "cell_type": "markdown",
   "id": "3dd50d79",
   "metadata": {},
   "source": [
    "2.Write a Python program to Multiply all numbers in the list?"
   ]
  },
  {
   "cell_type": "code",
   "execution_count": 2,
   "id": "a70a3a0f",
   "metadata": {},
   "outputs": [
    {
     "name": "stdout",
     "output_type": "stream",
     "text": [
      "The poduct of the list is :\n",
      "-23 x 1 x 2 x 3 x 4 x 5 x 6 x 8 x 9 x 7 x 6 x 25 x 6 x 3 x 1 =  -22534848000\n"
     ]
    }
   ],
   "source": [
    "class List:\n",
    "    def __init__(self,list1):\n",
    "        self.list1=list1\n",
    "    def product(self):\n",
    "        p=1\n",
    "        for i in self.list1:\n",
    "            p*=i\n",
    "            print(f\"{i} x \",end=\"\")\n",
    "        print(\"1 = \",p)\n",
    "class Product(List):\n",
    "    def __init__(self,list1):\n",
    "        print(\"is :\")\n",
    "        List.__init__(self,list1)\n",
    "print(\"The poduct of the list \",end=\"\")\n",
    "Product(l).product()\n",
    "\n",
    "        \n",
    "    "
   ]
  },
  {
   "cell_type": "markdown",
   "id": "19acead2",
   "metadata": {},
   "source": [
    "3. Write a Python program to find smallest number in a list?"
   ]
  },
  {
   "cell_type": "code",
   "execution_count": 3,
   "id": "2ee92513",
   "metadata": {},
   "outputs": [
    {
     "name": "stdout",
     "output_type": "stream",
     "text": [
      "l = [-23, 1, 2, 3, 4, 5, 6, 8, 9, 7, 6, 25, 6, 3] \n",
      "Smallest element in list l is :  -23\n"
     ]
    }
   ],
   "source": [
    "class Small:\n",
    "    def __init__(filler,self,list1):\n",
    "        self.list1=list1\n",
    "        \n",
    "    def smallest(self):\n",
    "        e=self.list1[0]\n",
    "        for i in self.list1:\n",
    "            if i<e:\n",
    "                e=i\n",
    "        return e\n",
    "            \n",
    "class small2(Small):\n",
    "    def __init__(self,list1):\n",
    "        super().__init__(self,list1)\n",
    "        \n",
    "class small3(small2,Small):\n",
    "    def __init__(self,list1):\n",
    "        small2.__init__(self,list1)\n",
    "    \n",
    "print(\"l =\",l,\"\\nSmallest element in list l is : \",small3(l).smallest())    "
   ]
  },
  {
   "cell_type": "markdown",
   "id": "7cc4e4e3",
   "metadata": {},
   "source": [
    "4. Write a Python program to find largest number in a list?"
   ]
  },
  {
   "cell_type": "code",
   "execution_count": 4,
   "id": "c10df912",
   "metadata": {},
   "outputs": [
    {
     "name": "stdout",
     "output_type": "stream",
     "text": [
      "Largest number is  25\n"
     ]
    }
   ],
   "source": [
    "class Large():\n",
    "    def __init__(self,list1):\n",
    "        self.list1=list1\n",
    "    def largest(self):\n",
    "        e=self.list1[0]\n",
    "        for i in self.list1:\n",
    "            if e<i:\n",
    "                e=i\n",
    "        print(\"Largest number is \",e)\n",
    "        \n",
    "Large(l).largest()\n",
    "        "
   ]
  },
  {
   "cell_type": "markdown",
   "id": "d098e236",
   "metadata": {},
   "source": [
    "5. Write a Python program to find second largest number in a list?"
   ]
  },
  {
   "cell_type": "code",
   "execution_count": 5,
   "id": "462be7b3",
   "metadata": {},
   "outputs": [
    {
     "name": "stdout",
     "output_type": "stream",
     "text": [
      "Second Largest number is  9\n"
     ]
    }
   ],
   "source": [
    "class Second_Largest():\n",
    "    def __init__(self,list1):\n",
    "        self.list1=list1\n",
    "    def second(self):\n",
    "        e=self.list1[0]\n",
    "        e1=self.list1[0]\n",
    "        for i in self.list1:\n",
    "            if i>e:\n",
    "                e=i\n",
    "        for i in self.list1:\n",
    "            if i>e1 and i<e:\n",
    "                e1=i\n",
    "        print(\"Second Largest number is \",e1)\n",
    "Second_Largest(l).second()"
   ]
  },
  {
   "cell_type": "markdown",
   "id": "1d646149",
   "metadata": {},
   "source": [
    "6. Write a Python program to find N largest elements from a list?"
   ]
  },
  {
   "cell_type": "code",
   "execution_count": 6,
   "id": "dca76bc3",
   "metadata": {},
   "outputs": [
    {
     "name": "stdout",
     "output_type": "stream",
     "text": [
      "Enter the number of largest numbers you want to find HERE: 4\n",
      "[25, 9, 8, 7]\n"
     ]
    }
   ],
   "source": [
    "# Using builin function\n",
    "number=int(input(\"Enter the number of largest numbers you want to find HERE: \"))\n",
    "l.sort()\n",
    "print([l[-i-1] for i in range(number)])"
   ]
  },
  {
   "cell_type": "markdown",
   "id": "96235d5c",
   "metadata": {},
   "source": [
    "7. Write a Python program to print even numbers in a list?\n"
   ]
  },
  {
   "cell_type": "code",
   "execution_count": 7,
   "id": "63672229",
   "metadata": {},
   "outputs": [
    {
     "name": "stdout",
     "output_type": "stream",
     "text": [
      "Even numbers in [1, 2, 3, 4, 5, 6, 7, 8, 9, 10] :- \n",
      "2 4 6 8 10 "
     ]
    }
   ],
   "source": [
    "class Even:\n",
    "    def __init__(var,self,list1):\n",
    "        self.list1=list1\n",
    "    def check_even(self):\n",
    "        print(\"Even numbers in\",self.list1,\":- \")\n",
    "        for i in self.list1:\n",
    "            if i%2==0:\n",
    "                print(i,end=\" \")    \n",
    "class Even2(Even):\n",
    "    def __init__(self,list1):\n",
    "        super().__init__(self,list1)\n",
    "class Even3(Even2):\n",
    "    def __init__(self,list1):\n",
    "        Even2.__init__(self,list1)\n",
    "\n",
    "        \n",
    "ob1_Even3=Even3([1,2,3,4,5,6,7,8,9,10])\n",
    "ob1_Even3.check_even()"
   ]
  },
  {
   "cell_type": "markdown",
   "id": "1568d939",
   "metadata": {},
   "source": [
    "8.Write a Python program to print odd numbers in a List?"
   ]
  },
  {
   "cell_type": "code",
   "execution_count": 8,
   "id": "24722441",
   "metadata": {},
   "outputs": [
    {
     "name": "stdout",
     "output_type": "stream",
     "text": [
      "Enter a list HERE: [1,2,3,4,5,6,7,8,9,10,77,45,56]\n",
      "\n",
      "Odd numbes in [1, 2, 3, 4, 5, 6, 7, 8, 9, 10, 77, 45, 56] are:- \n",
      "1 3 5 7 9 77 45 "
     ]
    }
   ],
   "source": [
    "class Odd():\n",
    "    def check_odd(self,list1):\n",
    "        print(f\"\\nOdd numbes in {list1} are:- \")\n",
    "        for i in list1:\n",
    "            if int(i)%2==1:\n",
    "                print(i,end=\" \")\n",
    "obj1_odd=Odd()\n",
    "obj1_odd.check_odd(eval(input(\"Enter a list HERE: \")))"
   ]
  },
  {
   "cell_type": "markdown",
   "id": "8fac69c6",
   "metadata": {},
   "source": [
    "9.Write a Python program to Remove empty List from List?"
   ]
  },
  {
   "cell_type": "code",
   "execution_count": 9,
   "id": "d3248b28",
   "metadata": {},
   "outputs": [
    {
     "name": "stdout",
     "output_type": "stream",
     "text": [
      "Before removing :  [[], 1, 2, 3, 5, [], [456], 4, [], 'd', 'dfd', []]\n",
      "After Removing  :  [1, 2, 3, 5, [456], 4, 'd', 'dfd']\n"
     ]
    }
   ],
   "source": [
    "class List:\n",
    "    def __init__(instance,list1):\n",
    "        instance.list1=list1\n",
    "        \n",
    "    def is_empty(instance,list_element):\n",
    "        if type(list_element)==list and len(list_element)==0:\n",
    "            return False\n",
    "        else:\n",
    "            return True\n",
    "    def list_in(instance):\n",
    "        print(\"Before removing : \",instance.list1)\n",
    "        for i in instance.list1:\n",
    "            if instance.is_empty(i) ==False:\n",
    "                instance.list1.remove(i)\n",
    "        print(\"After Removing  : \",instance.list1)\n",
    "ob1_List=List([[],1,2,3,5,[],[456],4,[],\"d\",\"dfd\",[]])\n",
    "ob1_List.list_in()"
   ]
  },
  {
   "cell_type": "markdown",
   "id": "19b17388",
   "metadata": {},
   "source": [
    "10.Write a Python program to Cloning or Copying a list?"
   ]
  },
  {
   "cell_type": "code",
   "execution_count": 10,
   "id": "7c235317",
   "metadata": {},
   "outputs": [
    {
     "name": "stdout",
     "output_type": "stream",
     "text": [
      "[1, [[2]], 3, 4, 5, 6]\n"
     ]
    }
   ],
   "source": [
    "class Clone():\n",
    "    list2=[]\n",
    "    def __init__ (self,list1):\n",
    "        self.list1=list1\n",
    "        for i in self.list1:\n",
    "            Clone.list2.append(i)\n",
    "ob1_Clone=Clone([1,[[2]],3,4,5,6])\n",
    "print(ob1_Clone.list2)"
   ]
  },
  {
   "cell_type": "markdown",
   "id": "0e6dfaf6",
   "metadata": {},
   "source": [
    "11.Write a Python program to Count occurrences of an element in a list?"
   ]
  },
  {
   "cell_type": "code",
   "execution_count": 11,
   "id": "2db2e1b3",
   "metadata": {},
   "outputs": [
    {
     "name": "stdout",
     "output_type": "stream",
     "text": [
      "The occurances are at the following indices:-\n",
      "12 15 16 17 \n",
      "7 occured 4  times!\n"
     ]
    }
   ],
   "source": [
    "class Count:\n",
    "    def __init__(ob,list1,element,count=0):\n",
    "        print(\"The occurances are at the following indices:-\")\n",
    "        for i in range(len(list1)):\n",
    "            if list1[i]==element:\n",
    "                count=count+1\n",
    "                print(i,end=\" \")\n",
    "        print(f\"\\n{element} occured\",count,\" times!\")\n",
    "\n",
    "obj1_Count=Count([1,2,3,4,5,1,2,3,5,4,6,8,7,9,8,7,7,7],7)     "
   ]
  }
 ],
 "metadata": {
  "kernelspec": {
   "display_name": "Python 3 (ipykernel)",
   "language": "python",
   "name": "python3"
  },
  "language_info": {
   "codemirror_mode": {
    "name": "ipython",
    "version": 3
   },
   "file_extension": ".py",
   "mimetype": "text/x-python",
   "name": "python",
   "nbconvert_exporter": "python",
   "pygments_lexer": "ipython3",
   "version": "3.9.7"
  }
 },
 "nbformat": 4,
 "nbformat_minor": 5
}
