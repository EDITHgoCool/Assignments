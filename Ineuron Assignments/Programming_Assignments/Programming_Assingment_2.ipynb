{
 "cells": [
  {
   "cell_type": "markdown",
   "id": "7239a389",
   "metadata": {},
   "source": [
    "# Programming Assignment 2\n",
    "\n",
    "Gokul Krishna P G\n",
    "gokul0023@gmail.com"
   ]
  },
  {
   "cell_type": "markdown",
   "id": "8f8b8841",
   "metadata": {},
   "source": [
    "### 1. Write a Python program to convert kilometers to miles?"
   ]
  },
  {
   "cell_type": "code",
   "execution_count": 1,
   "id": "db24b3a5",
   "metadata": {},
   "outputs": [
    {
     "name": "stdout",
     "output_type": "stream",
     "text": [
      "Enter your Kilometer Value HERE : 10\n",
      "6.2137119  Miles\n"
     ]
    }
   ],
   "source": [
    "#1 Km = 0.62137119 miles\n",
    "\n",
    "km_to_mile= lambda km : km*mile\n",
    "mile =0.62137119\n",
    "print(km_to_mile(float(input(\"Enter your Kilometer Value HERE : \"))),\" Miles\")"
   ]
  },
  {
   "cell_type": "markdown",
   "id": "62769ea2",
   "metadata": {},
   "source": [
    "### 2. Write a Python program to convert Celsius to Fahrenheit?"
   ]
  },
  {
   "cell_type": "code",
   "execution_count": 2,
   "id": "e9250a0e",
   "metadata": {},
   "outputs": [
    {
     "name": "stdout",
     "output_type": "stream",
     "text": [
      "Enter your Celsius Scale HERE: 100\n",
      "212.0  Fahrenheit\n"
     ]
    }
   ],
   "source": [
    "# Formula = celsisus x 9/5 + 32 = Fahrenheit\n",
    "\n",
    "c_f = lambda celsius : celsius*1.8 + 32\n",
    "print(c_f(float(input(\"Enter your Celsius Scale HERE: \"))),\" Fahrenheit\")"
   ]
  },
  {
   "cell_type": "markdown",
   "id": "7089a390",
   "metadata": {},
   "source": [
    "### 3. Write a Python program to display calendar?"
   ]
  },
  {
   "cell_type": "code",
   "execution_count": 3,
   "id": "987c24fa",
   "metadata": {},
   "outputs": [
    {
     "name": "stdout",
     "output_type": "stream",
     "text": [
      "Enter a year HERE : 2022\n",
      "                                  2022\n",
      "\n",
      "      January                   February                   March\n",
      "Mo Tu We Th Fr Sa Su      Mo Tu We Th Fr Sa Su      Mo Tu We Th Fr Sa Su\n",
      "                1  2          1  2  3  4  5  6          1  2  3  4  5  6\n",
      " 3  4  5  6  7  8  9       7  8  9 10 11 12 13       7  8  9 10 11 12 13\n",
      "10 11 12 13 14 15 16      14 15 16 17 18 19 20      14 15 16 17 18 19 20\n",
      "17 18 19 20 21 22 23      21 22 23 24 25 26 27      21 22 23 24 25 26 27\n",
      "24 25 26 27 28 29 30      28                        28 29 30 31\n",
      "31\n",
      "\n",
      "       April                      May                       June\n",
      "Mo Tu We Th Fr Sa Su      Mo Tu We Th Fr Sa Su      Mo Tu We Th Fr Sa Su\n",
      "             1  2  3                         1             1  2  3  4  5\n",
      " 4  5  6  7  8  9 10       2  3  4  5  6  7  8       6  7  8  9 10 11 12\n",
      "11 12 13 14 15 16 17       9 10 11 12 13 14 15      13 14 15 16 17 18 19\n",
      "18 19 20 21 22 23 24      16 17 18 19 20 21 22      20 21 22 23 24 25 26\n",
      "25 26 27 28 29 30         23 24 25 26 27 28 29      27 28 29 30\n",
      "                          30 31\n",
      "\n",
      "        July                     August                  September\n",
      "Mo Tu We Th Fr Sa Su      Mo Tu We Th Fr Sa Su      Mo Tu We Th Fr Sa Su\n",
      "             1  2  3       1  2  3  4  5  6  7                1  2  3  4\n",
      " 4  5  6  7  8  9 10       8  9 10 11 12 13 14       5  6  7  8  9 10 11\n",
      "11 12 13 14 15 16 17      15 16 17 18 19 20 21      12 13 14 15 16 17 18\n",
      "18 19 20 21 22 23 24      22 23 24 25 26 27 28      19 20 21 22 23 24 25\n",
      "25 26 27 28 29 30 31      29 30 31                  26 27 28 29 30\n",
      "\n",
      "      October                   November                  December\n",
      "Mo Tu We Th Fr Sa Su      Mo Tu We Th Fr Sa Su      Mo Tu We Th Fr Sa Su\n",
      "                1  2          1  2  3  4  5  6                1  2  3  4\n",
      " 3  4  5  6  7  8  9       7  8  9 10 11 12 13       5  6  7  8  9 10 11\n",
      "10 11 12 13 14 15 16      14 15 16 17 18 19 20      12 13 14 15 16 17 18\n",
      "17 18 19 20 21 22 23      21 22 23 24 25 26 27      19 20 21 22 23 24 25\n",
      "24 25 26 27 28 29 30      28 29 30                  26 27 28 29 30 31\n",
      "31\n",
      "\n"
     ]
    }
   ],
   "source": [
    "import calendar\n",
    "calenderr = lambda year : print(calendar.calendar(year))\n",
    "calenderr(int(input(\"Enter a year HERE : \")))"
   ]
  },
  {
   "cell_type": "markdown",
   "id": "449d16bc",
   "metadata": {},
   "source": [
    "### 4. Write a Python program to solve quadratic equation?"
   ]
  },
  {
   "cell_type": "code",
   "execution_count": 5,
   "id": "44301e92",
   "metadata": {},
   "outputs": [
    {
     "name": "stdout",
     "output_type": "stream",
     "text": [
      "You should enter quadratic equation without any spaces\n",
      "You should write the equation int the format ax^2+bx+c=0\n",
      "You should write the squaring part like this 2^2 (^ is for squaring)\n",
      "Enter your quadratic equation without any spaces HERE: 2x^2+3x+1=0\n",
      "The roots are : -0.5  and -1.0\n"
     ]
    }
   ],
   "source": [
    "import math\n",
    "def solve(a,b,c):\n",
    "    discriminant=b**2 -4*a*c\n",
    "    if discriminant<0:\n",
    "        return \" The roots are imaginary\",\"!\"\n",
    "    sqdiscriminant=math.sqrt(discriminant)\n",
    "    s1 = -b+sqdiscriminant\n",
    "    s2 = -b-sqdiscriminant\n",
    "    return f\"The roots are : {s1/4}\",f\" and {s2/4}\"\n",
    "\n",
    "equation = input(\"You should enter quadratic equation without any spaces\\nYou should write the equation int the format ax^2+bx+c=0\\nYou should write the squaring part like this 2^2 (^ is for squaring)\\nEnter your quadratic equation without any spaces HERE: \")\n",
    "equation= equation.replace(\"x\",\"\")\n",
    "s1,s2=solve(float(equation[0]),float(equation[4]),float(equation[6]))\n",
    "if s1==s2:\n",
    "    print(\"There is only one root and that is : \",s1)\n",
    "else:\n",
    "    print(s1,s2)"
   ]
  },
  {
   "cell_type": "markdown",
   "id": "b56be112",
   "metadata": {},
   "source": [
    "### 5. Write a Python program to swap two variables without temp variable?"
   ]
  },
  {
   "cell_type": "code",
   "execution_count": 6,
   "id": "32b48e01",
   "metadata": {},
   "outputs": [
    {
     "name": "stdout",
     "output_type": "stream",
     "text": [
      "Before Swapping\n",
      "----------------------\n",
      "a=5\n",
      "b=6\n",
      "After swapping\n",
      "----------------------\n",
      "a=6\n",
      "b=5\n"
     ]
    }
   ],
   "source": [
    "g,o=5,6\n",
    "print(f\"Before Swapping\\n----------------------\\na={g}\\nb={o}\")\n",
    "g,o=o,g\n",
    "print(f\"After swapping\\n----------------------\\na={g}\\nb={o}\")"
   ]
  }
 ],
 "metadata": {
  "kernelspec": {
   "display_name": "Python 3 (ipykernel)",
   "language": "python",
   "name": "python3"
  },
  "language_info": {
   "codemirror_mode": {
    "name": "ipython",
    "version": 3
   },
   "file_extension": ".py",
   "mimetype": "text/x-python",
   "name": "python",
   "nbconvert_exporter": "python",
   "pygments_lexer": "ipython3",
   "version": "3.9.7"
  }
 },
 "nbformat": 4,
 "nbformat_minor": 5
}
