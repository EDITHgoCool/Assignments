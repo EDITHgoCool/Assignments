{
 "cells": [
  {
   "cell_type": "markdown",
   "id": "35909f7e",
   "metadata": {},
   "source": [
    "### Programming Assignment 9\n",
    "\n",
    "By Gokul Krishna <br> gokul0023@gmail.com"
   ]
  },
  {
   "cell_type": "markdown",
   "id": "265375fb",
   "metadata": {},
   "source": [
    "1. Write a Python program to check if the given number is a Disarium Number?"
   ]
  },
  {
   "cell_type": "code",
   "execution_count": 1,
   "id": "80976774",
   "metadata": {},
   "outputs": [
    {
     "name": "stdout",
     "output_type": "stream",
     "text": [
      "Enter a number HERE:1676\n",
      "Yes it is a Disarium number!\n"
     ]
    }
   ],
   "source": [
    "Sum=0\n",
    "def is_disarium(num):\n",
    "    global Sum\n",
    "    for i,power in zip(num,range(1,len(num)+1)):\n",
    "        Sum+=int(i)**int(power)\n",
    "    if Sum==int(num):\n",
    "        print(\"Yes it is a Disarium number!\")\n",
    "    else:\n",
    "        print(\"It is not a disarium number!\")\n",
    "is_disarium(input(\"Enter a number HERE:\"))"
   ]
  },
  {
   "cell_type": "code",
   "execution_count": 2,
   "id": "0ccc9b03",
   "metadata": {},
   "outputs": [
    {
     "name": "stdout",
     "output_type": "stream",
     "text": [
      "Enter a number HERE:100000\n",
      "The disarium numbers are:  89 135 175 518 598 1306 1676 2427 "
     ]
    }
   ],
   "source": [
    "def disarium_nums(num):\n",
    "    Sum=0\n",
    "    print(\"The disarium numbers are: \",end=\" \")\n",
    "    for i in range(88,(int(num)+1)):\n",
    "        for j,count in zip(str(i),range(1,len(str(i))+1)):\n",
    "            Sum+=int(j)**count\n",
    "        if Sum==i:\n",
    "            print(Sum,end=\" \")\n",
    "        Sum=0\n",
    "disarium_nums(input(\"Enter a number HERE:\"))"
   ]
  },
  {
   "cell_type": "markdown",
   "id": "bf24e020",
   "metadata": {},
   "source": [
    "3. Write a Python program to check if the given number is Happy Number?"
   ]
  },
  {
   "cell_type": "code",
   "execution_count": 3,
   "id": "515a541f",
   "metadata": {},
   "outputs": [
    {
     "name": "stdout",
     "output_type": "stream",
     "text": [
      "not happy 4\n"
     ]
    }
   ],
   "source": [
    "def is_Happy(num):\n",
    "    square=11\n",
    "    Sum=0\n",
    "    while len(str(square))>1:\n",
    "        for i in str(num):\n",
    "            Sum=Sum+int(i)**2\n",
    "        square=num=Sum\n",
    "        Sum=0\n",
    "    if square ==1:\n",
    "        print(\"Happy number\",square)\n",
    "    else:\n",
    "        print(\"not happy\",square)\n",
    "is_Happy(\"55\")"
   ]
  },
  {
   "cell_type": "markdown",
   "id": "56441c90",
   "metadata": {},
   "source": [
    "4. Write a Python program to print all happy numbers between 1 and 100?"
   ]
  },
  {
   "cell_type": "code",
   "execution_count": 4,
   "id": "5f8afad8",
   "metadata": {},
   "outputs": [
    {
     "name": "stdout",
     "output_type": "stream",
     "text": [
      "The Happy Numbers between 0 and 100 are [1, 7, 10, 13, 19, 23, 28, 31, 32, 44, 49, 68, 70, 79, 82, 86, 91, 94, 97, 100]\n"
     ]
    }
   ],
   "source": [
    "def is_happy(start,end):\n",
    "    List = []\n",
    "    for in_num in range(start,end+1):\n",
    "        in_num = str(in_num)\n",
    "        inum_holder = in_num\n",
    "        trackNumber = set()   \n",
    "        while True:\n",
    "            if in_num != '1' and str(in_num) not in trackNumber:\n",
    "                trackNumber.add(in_num)\n",
    "                sum = 0\n",
    "                for ele in range(len((in_num))):\n",
    "                    sum = sum + int(in_num[ele])**2\n",
    "                in_num = str(sum)\n",
    "            elif str(in_num) in trackNumber:\n",
    "                break\n",
    "            else:\n",
    "                List.append(int(inum_holder))\n",
    "                break\n",
    "    print(f'The Happy Numbers between {start} and {end} are {List}')\n",
    "    \n",
    "is_happy(0,100)"
   ]
  },
  {
   "cell_type": "markdown",
   "id": "7b1e3f49",
   "metadata": {},
   "source": [
    "5. Write a Python program to determine whether the given number is a Harshad Number?"
   ]
  },
  {
   "cell_type": "code",
   "execution_count": 5,
   "id": "c0964670",
   "metadata": {},
   "outputs": [
    {
     "name": "stdout",
     "output_type": "stream",
     "text": [
      "Enter a Number: 460\n",
      "460 is a Harshad Number\n"
     ]
    }
   ],
   "source": [
    "def checkHarshadNumber():\n",
    "    in_num = input('Enter a Number: ')\n",
    "    sum = 0\n",
    "    for item in range(len(in_num)):\n",
    "        sum = sum + int(in_num[item])\n",
    "    if int(in_num)%sum == 0:\n",
    "        print(f'{in_num} is a Harshad Number')\n",
    "    else:\n",
    "        print(f'{in_num} is a Not Harshad Number')\n",
    "        \n",
    "checkHarshadNumber()"
   ]
  },
  {
   "cell_type": "markdown",
   "id": "cb0a7992",
   "metadata": {},
   "source": [
    "6. Write a Python program to print all pronic numbers between 1 and 100?"
   ]
  },
  {
   "cell_type": "code",
   "execution_count": 6,
   "id": "5f32764c",
   "metadata": {},
   "outputs": [
    {
     "name": "stdout",
     "output_type": "stream",
     "text": [
      "[2, 6, 12, 20, 30, 42, 56, 72, 90, 110, 132, 156, 182, 210, 240, 272, 306, 342, 380, 420, 462, 506, 552, 600, 650, 702, 756, 812, 870, 930, 992, 1056, 1122, 1190, 1260, 1332, 1406, 1482, 1560, 1640, 1722, 1806, 1892, 1980, 2070, 2162, 2256, 2352, 2450, 2550, 2652, 2756, 2862, 2970, 3080, 3192, 3306, 3422, 3540, 3660, 3782, 3906, 4032, 4160, 4290, 4422, 4556, 4692, 4830, 4970, 5112, 5256, 5402, 5550, 5700, 5852, 6006, 6162, 6320, 6480, 6642, 6806, 6972, 7140, 7310, 7482, 7656, 7832, 8010, 8190, 8372, 8556, 8742, 8930, 9120, 9312, 9506, 9702, 9900, 10100]\n"
     ]
    }
   ],
   "source": [
    "print([(ele)*(ele+1) for ele in range(1,101)])"
   ]
  }
 ],
 "metadata": {
  "kernelspec": {
   "display_name": "Python 3 (ipykernel)",
   "language": "python",
   "name": "python3"
  },
  "language_info": {
   "codemirror_mode": {
    "name": "ipython",
    "version": 3
   },
   "file_extension": ".py",
   "mimetype": "text/x-python",
   "name": "python",
   "nbconvert_exporter": "python",
   "pygments_lexer": "ipython3",
   "version": "3.9.7"
  }
 },
 "nbformat": 4,
 "nbformat_minor": 5
}
