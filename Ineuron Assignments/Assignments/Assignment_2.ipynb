{
 "cells": [
  {
   "cell_type": "markdown",
   "id": "5019579c",
   "metadata": {},
   "source": [
    "# Assignment_2\n",
    "\n",
    "Sunbmited by<br>\n",
    "Gokul Krishna<br>\n",
    "gokul0023@gmail.com"
   ]
  },
  {
   "cell_type": "markdown",
   "id": "a4f117f6",
   "metadata": {},
   "source": [
    "## 1.What are the two values of the Boolean data type? How do you write them?"
   ]
  },
  {
   "cell_type": "markdown",
   "id": "dfc2c3cb",
   "metadata": {},
   "source": [
    "The values of boolean data type are true and false\n",
    "\n",
    "- The first letter of both values are capitalised. That is True and False\n",
    "- You can also use the in-built bool() constructor to convert numerical values as boolean values\n",
    "##### Example:\n",
    "\n",
    "- bool(0) is False\n",
    "- bool(1) is True\n",
    "- bool(n) is also True where n is any non-zero number"
   ]
  },
  {
   "cell_type": "markdown",
   "id": "66369bb0",
   "metadata": {},
   "source": [
    "## 2. What are the three different types of Boolean operators?\n",
    "\n",
    "#### and \n",
    "- This operator evaluates the value to be true if both the operands are True\n",
    "\n",
    "#### or\n",
    "- This operator evaluates the expression to be true if on of the operands are True.\n",
    "\n",
    "#### not\n",
    "- This operator evalutes the expression to be true if the evaluated value of an experssion is False\n",
    "\n",
    "\n"
   ]
  },
  {
   "cell_type": "markdown",
   "id": "832c1b5b",
   "metadata": {},
   "source": [
    "## 3. Make a list of each Boolean operator's truth tables (i.e. every possible combination of Boolean values for the operator and what it evaluate ). \n",
    "\n",
    "True=1 and False=0\n",
    "\n",
    "### AND\n",
    "\n",
    " |  | 0 | 1 \n",
    "| --- | --- | --- |\n",
    "| 0 | False | False \n",
    "|1|False|True\n",
    "\n",
    "### OR\n",
    "\n",
    "|  | 0 |1\n",
    "|-|-|-|\n",
    "| 0 | False | True\n",
    "| 1 | True | True\n",
    "\n",
    "### NOT\n",
    "\n",
    "| |1|0\n",
    "|-|-|-\n",
    "||False|True"
   ]
  },
  {
   "cell_type": "markdown",
   "id": "14d50348",
   "metadata": {},
   "source": [
    "## 4. What are the values of the following expressions?\n",
    "- (5 > 4) and (3 == 5)\n",
    "- not (5 > 4)\n",
    "- (5 > 4) or (3 == 5)\n",
    "- not ((5 > 4) or (3 == 5))\n",
    "- (True and True) and (True == False)\n",
    "- (not False) or (not True)\n",
    "\n",
    "### Answers \n",
    "\n",
    "- (5 > 4) and (3 == 5) -> is **False** because in python bool(bool(1) and bool(0)) is False\n",
    "- not (5 > 4)          -> is **False** because in python not(bool(1)) is False\n",
    "- (5 > 4) or (3 == 5)  -> is **True**  because in python bool(bool(1) or bool(0)) is True\n",
    "- not ((5 > 4) or (3 == 5))-> is **False** because in python not(bool(bool(True) or bool(False))) is False\n",
    "- (True and True) and (True == False) -> is **False** True and False is False in python\n",
    "- (not False) or (not True)  -> is **True** "
   ]
  },
  {
   "cell_type": "code",
   "execution_count": 22,
   "id": "f760bf08",
   "metadata": {},
   "outputs": [
    {
     "name": "stdout",
     "output_type": "stream",
     "text": [
      "False\n",
      "False\n",
      "True\n",
      "False\n",
      "False\n",
      "True\n"
     ]
    }
   ],
   "source": [
    "#executing the code:\n",
    "\n",
    "print((5 > 4) and (3 == 5))\n",
    "print(not (5 > 4))\n",
    "print((5 > 4) or (3 == 5))\n",
    "print(not ((5 > 4) or (3 == 5)))\n",
    "print((True and True) and (True == False))\n",
    "print((not False) or (not True))\n"
   ]
  },
  {
   "cell_type": "markdown",
   "id": "22b42825",
   "metadata": {},
   "source": [
    "## 5. What are the six comparison operators?\n",
    "\n",
    "The Six Comparision Operators in python are:\n",
    "- == , != , < , > , <= , =>\n"
   ]
  },
  {
   "cell_type": "markdown",
   "id": "ae2d9cd9",
   "metadata": {},
   "source": [
    "## 6. How do you tell the difference between the equal to and assignment operators?Describe a condition and when you would use one.\n",
    "\n",
    "|== | = |\n",
    "|-|--\n",
    "|It is a Comparison Operator| This is an assignment operator\n",
    "|This will evaluate the value of two operands | This will assign value to variables\n",
    "|The Evaluted result will be either **True** or **False**| This will assign a value to the variable on the left side \n"
   ]
  },
  {
   "cell_type": "markdown",
   "id": "6ba5ef0e",
   "metadata": {},
   "source": [
    "## 7. Identify the three blocks in this code:\n",
    "\n",
    "<br>spam = 0\n",
    "<br>if spam == 10:\n",
    "<br>print('eggs')\n",
    "<br>if spam > 5:\n",
    "<br>print('bacon')\n",
    "<br>else:\n",
    "<br>print('ham')\n",
    "<br>print('spam')\n",
    "<br>print('spam')\n",
    "  \n",
    "  \n",
    "**Ans** :\n",
    "Block in python is characterised by indentation. If some code falls under the same indentation of a statement then that is <br>one block. The indentation of  each line under a specific statement should be same in order to be in the same block.\n",
    "<br>_The question gives a code with no indentation so it will give out an error._<br>But if the code is : "
   ]
  },
  {
   "cell_type": "raw",
   "id": "f09bec77",
   "metadata": {},
   "source": [
    "spam = 0\n",
    "if spam == 10:\n",
    "    print('eggs')\n",
    "if spam > 5:\n",
    "    print('bacon')\n",
    "else:\n",
    "    print('ham')\n",
    "print('spam')\n",
    "print('spam')"
   ]
  },
  {
   "cell_type": "markdown",
   "id": "1af455eb",
   "metadata": {},
   "source": [
    "The above code has **3 if block** and **one else block**"
   ]
  },
  {
   "cell_type": "code",
   "execution_count": 25,
   "id": "705e174a",
   "metadata": {},
   "outputs": [
    {
     "name": "stdout",
     "output_type": "stream",
     "text": [
      "ham\n",
      "spam\n",
      "spam\n"
     ]
    }
   ],
   "source": [
    "\"\"\"Executing the code\"\"\"\n",
    "spam = 0\n",
    "if spam == 10:\n",
    "    print('eggs')\n",
    "if spam > 5:\n",
    "    print('bacon')\n",
    "else:\n",
    "    print('ham')\n",
    "print('spam')\n",
    "print('spam')"
   ]
  },
  {
   "cell_type": "markdown",
   "id": "c0eb5cbc",
   "metadata": {},
   "source": [
    "## 8. Write code that prints Hello if 1 is stored in spam, prints Howdy if 2 is stored in spam, and prints Greetings! if anything else is stored in spam.\n"
   ]
  },
  {
   "cell_type": "code",
   "execution_count": 29,
   "id": "adc679dc",
   "metadata": {},
   "outputs": [
    {
     "name": "stdout",
     "output_type": "stream",
     "text": [
      "Enter 1,2,3 or any other number HERE: 5\n",
      "Greetings!\n"
     ]
    }
   ],
   "source": [
    "spam = int(input(\"Enter 1,2,3 or any other number HERE: \"))\n",
    "\n",
    "if spam==1:\n",
    "    print(\"Hello\")\n",
    "elif spam==2:\n",
    "    print(\"Howdy\")\n",
    "else:\n",
    "    print(\"Greetings!\")"
   ]
  },
  {
   "cell_type": "markdown",
   "id": "9f507aff",
   "metadata": {},
   "source": [
    "## 9.If your programme is stuck in an endless loop, what keys you’ll press?\n",
    "\n"
   ]
  },
  {
   "cell_type": "markdown",
   "id": "631e1b3e",
   "metadata": {},
   "source": [
    "We can **press the letter i twice** to inturrupt the kernal in GUI of jupyter notebook.\n",
    "Or we can press **ctrl + c** in the terminal of jupyter notebook"
   ]
  },
  {
   "cell_type": "markdown",
   "id": "8036fb2a",
   "metadata": {},
   "source": [
    "## 10. How can you tell the difference between break and continue?\n",
    "\n",
    "**Ans.**\n",
    "\n",
    "#### Break\n",
    "\n",
    "When the break statement is interfered, it will stop the execution and exits the block and continue the program.\n",
    "\n",
    "#### Continue\n",
    "\n",
    "When the continue statement is interefered it will stop the current cycle of execution and starts the next cycle of execution of the same block."
   ]
  },
  {
   "cell_type": "code",
   "execution_count": 3,
   "id": "3c8f2227",
   "metadata": {},
   "outputs": [
    {
     "name": "stdout",
     "output_type": "stream",
     "text": [
      "iteration no :  1\n",
      "iteration no :  2\n",
      "iteration no :  3\n",
      "Stopping at  3 rd iteration due to \"break\n",
      "\n",
      "loop stopped execution at  3 rd iteration and control came out of the block\n",
      "\n",
      "\n",
      "\n"
     ]
    }
   ],
   "source": [
    "#Break\n",
    "n=5\n",
    "while n>1:\n",
    "    print(\"iteration no : \",6-n)\n",
    "    if n==3:\n",
    "        print(\"Stopping at \",n,\"rd iteration due to \\\"break\")\n",
    "        break\n",
    "    n-=1\n",
    "    \n",
    "print(\"\\nloop stopped execution at \",n,\"rd iteration and control came out of the block\\n\\n\\n\")\n"
   ]
  },
  {
   "cell_type": "code",
   "execution_count": 2,
   "id": "7836266e",
   "metadata": {},
   "outputs": [
    {
     "name": "stdout",
     "output_type": "stream",
     "text": [
      "number  1\n",
      "number  2\n",
      "number  3\n",
      "Skip\n",
      "Python did not interpret the break statement and the print statement insode the loop due to the continue statement\n",
      "number  5\n"
     ]
    }
   ],
   "source": [
    "#continue\n",
    "n=6\n",
    "\n",
    "while n>1:\n",
    "    if 7-n==5:\n",
    "        print(\"Python did not interpret the break statement and the print statement insode the loop due to the continue statement\")\n",
    "    \n",
    "    print(\"number \",7-n)\n",
    "    n=n-1\n",
    "    if 7-n==4:\n",
    "        n=n-1\n",
    "        print(\"Skip\")\n",
    "        continue\n",
    "        print(\"Termination attempt using break\")\n",
    "        break"
   ]
  },
  {
   "cell_type": "markdown",
   "id": "c5eb8af5",
   "metadata": {},
   "source": [
    "## 11. In a for loop, what is the difference between range(10), range(0, 10), and range(0, 10, 1)?\n",
    "\n",
    "<br>If we answer from the result perspective then there is no difference.\n",
    "<br>But from an interpreter or compiler point of view we can say that:\n",
    "<br>___range(10)___ :  Implicitly gives an iterable object containing numbers from 0 to 9\n",
    "<br>___range(0,10)___: Explicitly tells the loop to start the iteration from iteration 0 to 9\n",
    "<br>***range(0,10,1)***: Explicitly tells the loop to start the iteration from 0 to 9 with 1 as a difference"
   ]
  },
  {
   "cell_type": "markdown",
   "id": "611297e1",
   "metadata": {},
   "source": [
    "## 12. Write a short program that prints the numbers 1 to 10 using a for loop. Then write an equivalent program that prints the numbers 1 to 10 using a while loop.\n",
    "\n",
    "**Ans**.\n"
   ]
  },
  {
   "cell_type": "code",
   "execution_count": 1,
   "id": "6a48c76a",
   "metadata": {},
   "outputs": [
    {
     "name": "stdout",
     "output_type": "stream",
     "text": [
      "For loop   :  0   1   2   3   4   5   6   7   8   9   10   \n",
      " ----------------------------------------------------- \n",
      "while loop :  0   1   2   3   4   5   6   7   8   9   10   "
     ]
    }
   ],
   "source": [
    "print(\"For loop   : \",end= \" \")\n",
    "for i in range(11):\n",
    "    print(i,\" \",end=\" \")\n",
    "print(\"\\n\",\"-\"*53,\"\\nwhile loop : \",end=\" \")    \n",
    "while i>=0:\n",
    "    print(10-i,end=\"   \")\n",
    "    i-=1"
   ]
  },
  {
   "cell_type": "markdown",
   "id": "8a5401eb",
   "metadata": {},
   "source": [
    "## 13. If you had a function named bacon() inside a module named spam, how would you call it after importing spam?\n",
    "\n",
    "**Ans.** spam.bacon()"
   ]
  }
 ],
 "metadata": {
  "kernelspec": {
   "display_name": "Python 3 (ipykernel)",
   "language": "python",
   "name": "python3"
  },
  "language_info": {
   "codemirror_mode": {
    "name": "ipython",
    "version": 3
   },
   "file_extension": ".py",
   "mimetype": "text/x-python",
   "name": "python",
   "nbconvert_exporter": "python",
   "pygments_lexer": "ipython3",
   "version": "3.9.7"
  }
 },
 "nbformat": 4,
 "nbformat_minor": 5
}
