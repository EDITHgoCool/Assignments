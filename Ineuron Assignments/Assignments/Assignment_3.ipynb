{
 "cells": [
  {
   "cell_type": "markdown",
   "id": "5da63317",
   "metadata": {},
   "source": [
    "# Assignment 3\n",
    "\n",
    "### Submited by \n",
    "**Gokul Krishna P G** <br>\n",
    "gokul0023@gmail.com"
   ]
  },
  {
   "cell_type": "markdown",
   "id": "9c1cd874",
   "metadata": {},
   "source": [
    "## 1. Why are functions advantageous to have in your programs?"
   ]
  },
  {
   "cell_type": "markdown",
   "id": "72de98ac",
   "metadata": {},
   "source": [
    "**Ans.**\n",
    "\n",
    "- Function is an available feature in all programming languages including python.\n",
    "- Functions are a block of statements which executes a task.\n",
    "- Functions can be called for again and again for doing the same task. It reduces the need to duplicate the code each and everytime.\n",
    "- It increases the readability,understandability and reduces the chance of having error,\n",
    "- It can reduce the complexity of a program by dividing the tasks into simpler one.\n",
    "- Modifying the code becomes easy.\n",
    "- Functions come built-in and user defined in python\n",
    "- User defined functions have a ***Function Header*** , ***Function Body*** and most oftenly return statements.\n",
    "- User should define a function first by using the Keyword **def** followed by **function_name**."
   ]
  },
  {
   "cell_type": "code",
   "execution_count": 5,
   "id": "413113c2",
   "metadata": {},
   "outputs": [
    {
     "data": {
      "text/plain": [
       "21"
      ]
     },
     "execution_count": 5,
     "metadata": {},
     "output_type": "execute_result"
    }
   ],
   "source": [
    "#function header\n",
    "\n",
    "def  Func_name(a,b): # def is a keyword and a,b are parameters\n",
    "    c= a+b #This is function body\n",
    "    return c #return statement\n",
    "\n",
    "Func_name(10,11) #function call"
   ]
  },
  {
   "cell_type": "markdown",
   "id": "15dbb088",
   "metadata": {},
   "source": [
    "## 2. When does the code in a function run: when it's specified or when it's called?\n",
    "\n",
    "**Ans**.\n",
    "\n",
    "In order for a fucntion to start execution, it should be called.\n",
    "- The desired function can be called by using its name along by passing its parameters if the function header receives.\n"
   ]
  },
  {
   "cell_type": "code",
   "execution_count": 6,
   "id": "16ad69de",
   "metadata": {},
   "outputs": [
    {
     "data": {
      "text/plain": [
       "21"
      ]
     },
     "execution_count": 6,
     "metadata": {},
     "output_type": "execute_result"
    }
   ],
   "source": [
    "#function header\n",
    "\n",
    "def  Func_name(a,b): # def is a keyword and a,b are parameters\n",
    "    c= a+b #This is function body\n",
    "    return c #return statement\n",
    "\n",
    "Func_name(10,11) #function call starts the execution of the function"
   ]
  },
  {
   "cell_type": "markdown",
   "id": "505c7886",
   "metadata": {},
   "source": [
    "## 3. What statement creates a function?\n",
    "\n",
    "**Ans.**\n",
    " \n",
    "The **def** keyword followed by a function name and parameters(if they are desired) enclosed in paranthesis( if no parameter exists then empty enclosed paranthesis is required) and a full column (:) in the funcion header starts the process of defining a funciton.\n",
    "\n",
    "- In order to define a function, **def** keyword is required."
   ]
  },
  {
   "cell_type": "code",
   "execution_count": 11,
   "id": "a1fc27dc",
   "metadata": {},
   "outputs": [
    {
     "data": {
      "text/plain": [
       "'Ineuron is Awzome!!!'"
      ]
     },
     "execution_count": 11,
     "metadata": {},
     "output_type": "execute_result"
    }
   ],
   "source": [
    "iam= \"me!!!\"\n",
    "def Ineuron(a,b): #def initializes a function\n",
    "    return b+ \"neu\"+zz.lower() +a + \"zo\" + iam\n",
    "zz=\"Ron IS \"\n",
    "Ineuron(\"Aw\", \"I\")"
   ]
  },
  {
   "cell_type": "markdown",
   "id": "5a587159",
   "metadata": {},
   "source": [
    "## 4. What is the difference between a function and a function call?\n",
    "\n",
    "**Ans.**\n",
    "\n",
    "#### Funciton \n",
    "- Function is block of code which can be created to fulfill a specific repetative task.\n"
   ]
  },
  {
   "cell_type": "raw",
   "id": "88b305ee",
   "metadata": {},
   "source": [
    "def function_name(parameters):\n",
    "    \"\"\"doc string\"\"\"          \n",
    "    -----function body-----\n",
    "    -----function body-----\n",
    "    return value"
   ]
  },
  {
   "cell_type": "markdown",
   "id": "c674cfae",
   "metadata": {},
   "source": [
    "#### Function call\n",
    "\n",
    "- Function call is a statement for calling the defined function to execute the specified task.\n",
    "- Function call starts with name of the defined function.\n",
    "\n",
    "function call - Funct_Name(para_1,para_2)"
   ]
  },
  {
   "cell_type": "markdown",
   "id": "18c1e478",
   "metadata": {},
   "source": [
    "## 5. How many global scopes are there in a Python program? How many local scopes?\n",
    "\n",
    "There is only 1 Global scope and 1 local scope in python\n",
    "- There are total 4 scopes in python. Global, Local, Nonlocal and built-in\n",
    "- **Local** variable is the variable inside a block (eg: loops, Functions etc)\n",
    "- **Global** variable is assigned outside any block\n"
   ]
  },
  {
   "cell_type": "code",
   "execution_count": 18,
   "id": "9ee2aee2",
   "metadata": {},
   "outputs": [
    {
     "name": "stdout",
     "output_type": "stream",
     "text": [
      "local  11\n",
      "Global  10\n"
     ]
    }
   ],
   "source": [
    "global x #explicitly specifying globality\n",
    "x=10\n",
    "def fun():\n",
    "    x=11 #  local variable\n",
    "    print(\"local \",x)\n",
    "    \n",
    "fun()\n",
    "print(\"Global \", x)"
   ]
  },
  {
   "cell_type": "markdown",
   "id": "6f658898",
   "metadata": {},
   "source": [
    "## 6. What happens to variables in a local scope when the function call returns?\n",
    "\n",
    "**Ans.**\n",
    "\n",
    "The values in the local scope in a program lasts only when the program is inside the local scope.Once the program control is outside the local scope or that particular block, the values are erased. Local varible becomes undefined after the scope ends"
   ]
  },
  {
   "cell_type": "markdown",
   "id": "baecdfe6",
   "metadata": {},
   "source": [
    "## 7. What is the concept of a return value? Is it possible to have a return value in an expression? \n",
    "\n",
    "- Return statement stops the block execution and the control is handover outside the block.\n",
    "- Return statement often has a return value which is returned to the function call and can be stored in a variable.\n",
    "- Return statement can have expressions as a return value<br> eg: return a+10\\*20\\**2"
   ]
  },
  {
   "cell_type": "code",
   "execution_count": 23,
   "id": "b05a4917",
   "metadata": {},
   "outputs": [
    {
     "name": "stdout",
     "output_type": "stream",
     "text": [
      "4011\n"
     ]
    }
   ],
   "source": [
    "aa=11\n",
    "def a():\n",
    "    return aa+10*20**2 #usinf expressions as a return value in the return statement\n",
    "\n",
    "print(a())\n",
    "    "
   ]
  },
  {
   "cell_type": "markdown",
   "id": "0637e2fe",
   "metadata": {},
   "source": [
    "## 8. If a function does not have a return statement, what is the return value of a call to that function?\n",
    "\n",
    "**Ans**\n",
    "\n",
    "If there is no specified return value or return statement for a fucntion, then the value is **None**\n"
   ]
  },
  {
   "cell_type": "code",
   "execution_count": 33,
   "id": "b2cde847",
   "metadata": {},
   "outputs": [
    {
     "name": "stdout",
     "output_type": "stream",
     "text": [
      "None\n"
     ]
    }
   ],
   "source": [
    "def a():\n",
    "    pass\n",
    "print(a())"
   ]
  },
  {
   "cell_type": "markdown",
   "id": "68365053",
   "metadata": {},
   "source": [
    "## 9. How do you make a function variable refer to the global variable?\n",
    "**Ans**\n",
    "\n",
    "Global keyword makes a function refer to global variable"
   ]
  },
  {
   "cell_type": "code",
   "execution_count": 44,
   "id": "39bdeb86",
   "metadata": {},
   "outputs": [
    {
     "name": "stdout",
     "output_type": "stream",
     "text": [
      "33\n",
      "33\n"
     ]
    }
   ],
   "source": [
    "x=22\n",
    "def a():\n",
    "    global x\n",
    "    x=33 # 33 is assigned to gobal variable x\n",
    "    print(x)\n",
    "\n",
    "a()\n",
    "print(x)"
   ]
  },
  {
   "cell_type": "markdown",
   "id": "7d455dde",
   "metadata": {},
   "source": [
    "## 10. What is the data type of None?\n",
    "\n",
    "**Ans.** NoneType"
   ]
  },
  {
   "cell_type": "code",
   "execution_count": 45,
   "id": "135000b8",
   "metadata": {},
   "outputs": [
    {
     "data": {
      "text/plain": [
       "NoneType"
      ]
     },
     "execution_count": 45,
     "metadata": {},
     "output_type": "execute_result"
    }
   ],
   "source": [
    "type(None)"
   ]
  },
  {
   "cell_type": "markdown",
   "id": "7d791031",
   "metadata": {},
   "source": [
    "## 11. What does the sentence import areallyourpetsnamederic do?"
   ]
  },
  {
   "cell_type": "markdown",
   "id": "d053cac9",
   "metadata": {},
   "source": [
    "The above specified statement will only import the so called module \"areallyourpetsnamederic\" if and only if there is a module named \"areallyourpetsnamederic\". If not you have to create one in order to prevent the error."
   ]
  },
  {
   "cell_type": "markdown",
   "id": "43a6d4a9",
   "metadata": {},
   "source": [
    "## 12. If you had a bacon() feature in a spam module, what would you call it after importing spam?\n",
    "\n",
    "**Ans**.\n",
    "\n",
    "spam.bacon()"
   ]
  },
  {
   "cell_type": "markdown",
   "id": "28889245",
   "metadata": {},
   "source": [
    "## 13. What can you do to save a programme from crashing if it encounters an error?\n",
    "**Ans.** We can use try and except block to handle the error as mentioned below:"
   ]
  },
  {
   "cell_type": "code",
   "execution_count": 49,
   "id": "1a90aaaf",
   "metadata": {},
   "outputs": [
    {
     "name": "stdout",
     "output_type": "stream",
     "text": [
      "Something has happened in the try block. This is except block\n"
     ]
    }
   ],
   "source": [
    "try:\n",
    "    print(1/0)\n",
    "except:\n",
    "    print(\"Something has happened in the try block. This is except block\")"
   ]
  },
  {
   "cell_type": "markdown",
   "id": "134e3253",
   "metadata": {},
   "source": [
    "## 14. What is the purpose of the try clause? What is the purpose of the except clause?\n",
    "\n",
    "The code that can potentially result into an error can be placed in the try clause. The code that executes if an error happens could be in the except clause."
   ]
  }
 ],
 "metadata": {
  "kernelspec": {
   "display_name": "Python 3 (ipykernel)",
   "language": "python",
   "name": "python3"
  },
  "language_info": {
   "codemirror_mode": {
    "name": "ipython",
    "version": 3
   },
   "file_extension": ".py",
   "mimetype": "text/x-python",
   "name": "python",
   "nbconvert_exporter": "python",
   "pygments_lexer": "ipython3",
   "version": "3.9.7"
  }
 },
 "nbformat": 4,
 "nbformat_minor": 5
}
